{
 "cells": [
  {
   "cell_type": "code",
   "execution_count": 1,
   "id": "76a42c27",
   "metadata": {},
   "outputs": [
    {
     "data": {
      "image/png": "[encoded data removed]",
      "text/plain": [
       "<Figure size 432x288 with 1 Axes>"
      ]
     },
     "metadata": {
      "needs_background": "light"
     },
     "output_type": "display_data"
    }
   ],
   "source": [
    "from sklearn import datasets\n",
    "import numpy as np\n",
    "import matplotlib.pyplot as plt\n",
    "plt.rcParams['font.sans-serif']=['SimHei'] #显示中文标签\n",
    "plt.rcParams['axes.unicode_minus']=False\n",
    " \n",
    "iris = datasets.load_iris()\n",
    "X = iris.data\n",
    "N, D = X.shape\n",
    " \n",
    "mus = X[np.random.choice(X.shape[0], 3, replace=False)]\n",
    "covs = [np.identity(4) for i in range(3)]\n",
    "pis = [1/3] * 3\n",
    " \n",
    "def gaussian(X, mu, cov):\n",
    "    diff = X - mu\n",
    "    return 1 / ((2 * np.pi) ** (D / 2) * np.linalg.det(cov) ** 0.5) * np.exp(-0.5 * np.dot(np.dot(diff, np.linalg.inv(cov)), diff))\n",
    " \n",
    "def get_likelihood(gamma_total):\n",
    "    return np.log(gamma_total).sum()\n",
    " \n",
    "def train_step(X, mus, covs, pis):\n",
    "    gammas = []\n",
    "    for mu_, cov_, pi_ in zip(mus, covs, pis):# loop each center\n",
    "        gamma_ = [[pi_ * gaussian(x_, mu_, cov_)] for x_ in X]# loop each point\n",
    "        gammas.append(gamma_)\n",
    "    gammas = np.array(gammas)\n",
    "    gamma_total = gammas.sum(0)\n",
    "    gammas /= gamma_total\n",
    "    \n",
    "    mus, covs, pis = [], [], []\n",
    "    for gamma_ in gammas:#loop each center\n",
    "        gamma_sum = gamma_.sum()\n",
    "        pi_ = gamma_sum / N\n",
    "        mu_ = (gamma_ * X).sum(0) / gamma_sum\n",
    "        cov_ = []\n",
    "        for x_, gamma_i in zip(X, gamma_):\n",
    "            diff = (x_ - mu_).reshape(-1, 1)\n",
    "            cov_.append(gamma_i * np.dot(diff, diff.T))\n",
    "        cov_ = np.sum(cov_, axis=0) / gamma_sum\n",
    "        pis.append(pi_)\n",
    "        mus.append(mu_)\n",
    "        covs.append(cov_)\n",
    "    return mus, covs, pis, gamma_total\n",
    "    \n",
    "log_LL = []\n",
    "for _ in range(50):\n",
    "    mus, covs, pis, gamma_total = train_step(X, mus, covs, pis)\n",
    "    log_LL.append(get_likelihood(gamma_total))\n",
    "plt.plot(log_LL)\n",
    "plt.xlabel('迭代次数')\n",
    "plt.grid()"
   ]
  },
  {
   "cell_type": "code",
   "execution_count": null,
   "id": "33075f1c",
   "metadata": {},
   "outputs": [],
   "source": []
  }
 ],
 "metadata": {
  "kernelspec": {
   "display_name": "Python 3 (ipykernel)",
   "language": "python",
   "name": "python3"
  },
  "language_info": {
   "codemirror_mode": {
    "name": "ipython",
    "version": 3
   },
   "file_extension": ".py",
   "mimetype": "text/x-python",
   "name": "python",
   "nbconvert_exporter": "python",
   "pygments_lexer": "ipython3",
   "version": "3.9.7"
  }
 },
 "nbformat": 4,
 "nbformat_minor": 5
}
