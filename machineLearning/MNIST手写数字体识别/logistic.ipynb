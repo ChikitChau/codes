{
 "cells": [
  {
   "cell_type": "code",
   "execution_count": 1,
   "id": "139dc613",
   "metadata": {},
   "outputs": [],
   "source": [
    "# third-party library\n",
    "import torch\n",
    "import torch.nn as nn\n",
    "import torch.utils.data as Data\n",
    "import torchvision\n",
    "import matplotlib.pyplot as plt"
   ]
  },
  {
   "cell_type": "code",
   "execution_count": 2,
   "id": "82ecca99",
   "metadata": {},
   "outputs": [],
   "source": [
    "EPOCH = 1               # train the training data n times, to save time, we just train 1 epoch\n",
    "BATCH_SIZE = 50\n",
    "LR = 0.001              # learning rate"
   ]
  },
  {
   "cell_type": "code",
   "execution_count": 3,
   "id": "48147f36",
   "metadata": {},
   "outputs": [],
   "source": [
    "train_data = torchvision.datasets.MNIST(\n",
    "    root='./data',\n",
    "    train=True,                                     # this is training data\n",
    "    transform=torchvision.transforms.ToTensor(),    # Converts a PIL.Image or numpy.ndarray to\n",
    "                                                    # torch.FloatTensor of shape (C x H x W) and normalize in the range [0.0, 1.0]\n",
    "    download=True,\n",
    ")\n"
   ]
  },
  {
   "cell_type": "code",
   "execution_count": 4,
   "id": "fd6af966",
   "metadata": {},
   "outputs": [
    {
     "name": "stdout",
     "output_type": "stream",
     "text": [
      "torch.Size([60000, 28, 28])\n",
      "torch.Size([60000])\n"
     ]
    },
    {
     "name": "stderr",
     "output_type": "stream",
     "text": [
      "C:\\Users\\zhouz\\anaconda3\\lib\\site-packages\\torchvision\\datasets\\mnist.py:62: UserWarning: train_data has been renamed data\n",
      "  warnings.warn(\"train_data has been renamed data\")\n",
      "C:\\Users\\zhouz\\anaconda3\\lib\\site-packages\\torchvision\\datasets\\mnist.py:52: UserWarning: train_labels has been renamed targets\n",
      "  warnings.warn(\"train_labels has been renamed targets\")\n",
      "C:\\Users\\zhouz\\anaconda3\\lib\\site-packages\\torchvision\\datasets\\mnist.py:67: UserWarning: test_data has been renamed data\n",
      "  warnings.warn(\"test_data has been renamed data\")\n",
      "C:\\Users\\zhouz\\anaconda3\\lib\\site-packages\\torchvision\\datasets\\mnist.py:57: UserWarning: test_labels has been renamed targets\n",
      "  warnings.warn(\"test_labels has been renamed targets\")\n"
     ]
    }
   ],
   "source": [
    "# plot one example\n",
    "print(train_data.train_data.size())                 # (60000, 28, 28)\n",
    "print(train_data.train_labels.size())               # (60000)\n",
    "# plt.imshow(train_data.train_data[0].numpy(), cmap='gray')\n",
    "# plt.title('%i' % train_data.train_labels[0])\n",
    "# plt.show()\n",
    "\n",
    "# Data Loader for easy mini-batch return in training, the image batch shape will be (50, 1, 28, 28)\n",
    "train_loader = Data.DataLoader(dataset=train_data, batch_size=BATCH_SIZE, shuffle=True)\n",
    "\n",
    "# pick 2000 samples to speed up testing\n",
    "test_data = torchvision.datasets.MNIST(root='./data', train=False)\n",
    "test_x = torch.unsqueeze(test_data.test_data, dim=1).type(torch.FloatTensor)[:2000]/255.   # shape from (2000, 28, 28) to (2000, 1, 28, 28), value in range(0,1)\n",
    "test_y = test_data.test_labels[:2000]\n"
   ]
  },
  {
   "cell_type": "code",
   "execution_count": 5,
   "id": "2f0f3fa6",
   "metadata": {},
   "outputs": [
    {
     "name": "stdout",
     "output_type": "stream",
     "text": [
      "logisticRg(\n",
      "  (lr): Sequential(\n",
      "    (0): Linear(in_features=784, out_features=10, bias=True)\n",
      "  )\n",
      ")\n"
     ]
    }
   ],
   "source": [
    "class logisticRg(nn.Module):\n",
    "    def __init__(self):\n",
    "        super(logisticRg, self).__init__()\n",
    "        self.lr = nn.Sequential(\n",
    "            nn.Linear(28*28,10)\n",
    "        )\n",
    "\n",
    "    def forward(self, x):\n",
    "        output = self.lr(x)\n",
    "        return output, x    # return x for visualization\n",
    "\n",
    "\n",
    "lor = logisticRg()\n",
    "print(lor)  # net architecture\n",
    "\n",
    "optimizer = torch.optim.Adam(lor.parameters(), lr=LR)   # optimize all logistic parameters\n",
    "loss_func = nn.CrossEntropyLoss()                       # the target label is not one-hotted"
   ]
  },
  {
   "cell_type": "code",
   "execution_count": 6,
   "id": "517a9f91",
   "metadata": {},
   "outputs": [
    {
     "name": "stdout",
     "output_type": "stream",
     "text": [
      "Epoch:  0 | train loss: 2.3373 | test accuracy: 0.12\n",
      "Epoch:  0 | train loss: 1.2727 | test accuracy: 0.73\n",
      "Epoch:  0 | train loss: 0.9064 | test accuracy: 0.79\n",
      "Epoch:  0 | train loss: 0.6240 | test accuracy: 0.83\n",
      "Epoch:  0 | train loss: 0.5153 | test accuracy: 0.83\n",
      "Epoch:  0 | train loss: 0.5789 | test accuracy: 0.85\n",
      "Epoch:  0 | train loss: 0.5229 | test accuracy: 0.84\n",
      "Epoch:  0 | train loss: 0.4065 | test accuracy: 0.85\n",
      "Epoch:  0 | train loss: 0.5587 | test accuracy: 0.86\n",
      "Epoch:  0 | train loss: 0.6078 | test accuracy: 0.86\n",
      "Epoch:  0 | train loss: 0.3702 | test accuracy: 0.86\n",
      "Epoch:  0 | train loss: 0.3495 | test accuracy: 0.87\n",
      "Epoch:  0 | train loss: 0.3900 | test accuracy: 0.87\n",
      "Epoch:  0 | train loss: 0.4426 | test accuracy: 0.87\n",
      "Epoch:  0 | train loss: 0.5066 | test accuracy: 0.87\n",
      "Epoch:  0 | train loss: 0.5493 | test accuracy: 0.87\n",
      "Epoch:  0 | train loss: 0.3998 | test accuracy: 0.88\n",
      "Epoch:  0 | train loss: 0.3878 | test accuracy: 0.88\n",
      "Epoch:  0 | train loss: 0.4699 | test accuracy: 0.88\n",
      "Epoch:  0 | train loss: 0.5468 | test accuracy: 0.88\n",
      "Epoch:  0 | train loss: 0.3685 | test accuracy: 0.88\n",
      "Epoch:  0 | train loss: 0.1524 | test accuracy: 0.88\n",
      "Epoch:  0 | train loss: 0.3663 | test accuracy: 0.88\n",
      "Epoch:  0 | train loss: 0.3323 | test accuracy: 0.88\n",
      "[7 2 1 0 4 1 4 9 6 9] prediction number\n",
      "[7 2 1 0 4 1 4 9 5 9] real number\n"
     ]
    }
   ],
   "source": [
    "for epoch in range(EPOCH):\n",
    "    for step, (b_x, b_y) in enumerate(train_loader):   # gives batch data, normalize x when iterate train_loader\n",
    "        # print(b_x.size())\n",
    "        b_x = b_x.view(-1, 28*28)\n",
    "        # print(b_x.size())\n",
    "\n",
    "        output = lor(b_x)[0]               # logistic output\n",
    "        loss = loss_func(output, b_y)   # cross entropy loss\n",
    "        optimizer.zero_grad()           # clear gradients for this training step\n",
    "        loss.backward()                 # backpropagation, compute gradients\n",
    "        optimizer.step()                # apply gradients\n",
    "\n",
    "        if step % 50 == 0:\n",
    "\n",
    "            test_output, last_layer = lor(test_x.view(-1,28*28))\n",
    "            pred_y = torch.max(test_output, 1)[1].data.numpy()\n",
    "            accuracy = float((pred_y == test_y.data.numpy()).astype(int).sum()) / float(test_y.size(0))\n",
    "            print('Epoch: ', epoch, '| train loss: %.4f' % loss.data.numpy(), '| test accuracy: %.2f' % accuracy)\n",
    "            # if HAS_SK:\n",
    "            #     # Visualization of trained flatten layer (T-SNE)\n",
    "            #     tsne = TSNE(perplexity=30, n_components=2, init='pca', n_iter=5000)\n",
    "            #     plot_only = 500\n",
    "            #     low_dim_embs = tsne.fit_transform(last_layer.data.numpy()[:plot_only, :])\n",
    "            #     labels = test_y.numpy()[:plot_only]\n",
    "            #     plot_with_labels(low_dim_embs, labels)\n",
    "# plt.ioff()\n",
    "\n",
    "# print 10 predictions from test data\n",
    "test_output, _ = lor(test_x[:10].view(-1,28*28))\n",
    "pred_y = torch.max(test_output, 1)[1].data.numpy()\n",
    "print(pred_y, 'prediction number')\n",
    "print(test_y[:10].numpy(), 'real number')"
   ]
  },
  {
   "cell_type": "code",
   "execution_count": 7,
   "id": "726d671b",
   "metadata": {},
   "outputs": [
    {
     "ename": "NameError",
     "evalue": "name 'a' is not defined",
     "output_type": "error",
     "traceback": [
      "\u001b[1;31m---------------------------------------------------------------------------\u001b[0m",
      "\u001b[1;31mNameError\u001b[0m                                 Traceback (most recent call last)",
      "\u001b[1;32m~\\AppData\\Local\\Temp/ipykernel_12960/3413337874.py\u001b[0m in \u001b[0;36m<module>\u001b[1;34m\u001b[0m\n\u001b[1;32m----> 1\u001b[1;33m \u001b[0ma\u001b[0m \u001b[1;33m==\u001b[0m \u001b[1;36m0\u001b[0m\u001b[1;33m\u001b[0m\u001b[1;33m\u001b[0m\u001b[0m\n\u001b[0m",
      "\u001b[1;31mNameError\u001b[0m: name 'a' is not defined"
     ]
    }
   ],
   "source": [
    "a == 0"
   ]
  },
  {
   "cell_type": "code",
   "execution_count": null,
   "id": "4e778ca0",
   "metadata": {},
   "outputs": [],
   "source": [
    "\n",
    "# library\n",
    "# standard library\n",
    "import os\n",
    "\n",
    "# third-party library\n",
    "import torch\n",
    "import torch.nn as nn\n",
    "import torch.utils.data as Data\n",
    "import torchvision\n",
    "# import matplotlib.pyplot as plt\n",
    "\n",
    "# torch.manual_seed(1)    # reproducible\n",
    "\n",
    "# Hyper Parameters\n",
    "EPOCH = 1               # train the training data n times, to save time, we just train 1 epoch\n",
    "BATCH_SIZE = 50\n",
    "LR = 0.001              # learning rate\n",
    "\n",
    "\n",
    "train_data = torchvision.datasets.MNIST(\n",
    "    root='./data',\n",
    "    train=True,                                     # this is training data\n",
    "    transform=torchvision.transforms.ToTensor(),    # Converts a PIL.Image or numpy.ndarray to\n",
    "                                                    # torch.FloatTensor of shape (C x H x W) and normalize in the range [0.0, 1.0]\n",
    "    download=True,\n",
    ")\n",
    "\n",
    "# plot one example\n",
    "print(train_data.train_data.size())                 # (60000, 28, 28)\n",
    "print(train_data.train_labels.size())               # (60000)\n",
    "# plt.imshow(train_data.train_data[0].numpy(), cmap='gray')\n",
    "# plt.title('%i' % train_data.train_labels[0])\n",
    "# plt.show()\n",
    "\n",
    "# Data Loader for easy mini-batch return in training, the image batch shape will be (50, 1, 28, 28)\n",
    "train_loader = Data.DataLoader(dataset=train_data, batch_size=BATCH_SIZE, shuffle=True)\n",
    "\n",
    "# pick 2000 samples to speed up testing\n",
    "test_data = torchvision.datasets.MNIST(root='./mnist/', train=False)\n",
    "test_x = torch.unsqueeze(test_data.test_data, dim=1).type(torch.FloatTensor)[:2000]/255.   # shape from (2000, 28, 28) to (2000, 1, 28, 28), value in range(0,1)\n",
    "test_y = test_data.test_labels[:2000]\n",
    "\n",
    "\n",
    "class logisticRg(nn.Module):\n",
    "    def __init__(self):\n",
    "        super(logisticRg, self).__init__()\n",
    "        self.lr = nn.Sequential(\n",
    "            nn.Linear(28*28,10)\n",
    "        )\n",
    "\n",
    "    def forward(self, x):\n",
    "        output = self.lr(x)\n",
    "        return output, x    # return x for visualization\n",
    "\n",
    "\n",
    "lor = logisticRg()\n",
    "print(lor)  # net architecture\n",
    "\n",
    "optimizer = torch.optim.Adam(lor.parameters(), lr=LR)   # optimize all logistic parameters\n",
    "loss_func = nn.CrossEntropyLoss()                       # the target label is not one-hotted\n",
    "\n",
    "# following function (plot_with_labels) is for visualization, can be ignored if not interested\n",
    "# from matplotlib import cm\n",
    "# try: from sklearn.manifold import TSNE; HAS_SK = True\n",
    "# except: HAS_SK = False; print('Please install sklearn for layer visualization')\n",
    "# def plot_with_labels(lowDWeights, labels):\n",
    "#     plt.cla()\n",
    "#     X, Y = lowDWeights[:, 0], lowDWeights[:, 1]\n",
    "#     for x, y, s in zip(X, Y, labels):\n",
    "#         c = cm.rainbow(int(255 * s / 9)); plt.text(x, y, s, backgroundcolor=c, fontsize=9)\n",
    "#     plt.xlim(X.min(), X.max()); plt.ylim(Y.min(), Y.max()); plt.title('Visualize last layer'); plt.show(); plt.pause(0.01)\n",
    "\n",
    "# plt.ion()\n",
    "# training and testing\n",
    "for epoch in range(EPOCH):\n",
    "    for step, (b_x, b_y) in enumerate(train_loader):   # gives batch data, normalize x when iterate train_loader\n",
    "        # print(b_x.size())\n",
    "        b_x = b_x.view(-1, 28*28)\n",
    "        # print(b_x.size())\n",
    "\n",
    "        output = lor(b_x)[0]               # logistic output\n",
    "        loss = loss_func(output, b_y)   # cross entropy loss\n",
    "        optimizer.zero_grad()           # clear gradients for this training step\n",
    "        loss.backward()                 # backpropagation, compute gradients\n",
    "        optimizer.step()                # apply gradients\n",
    "\n",
    "        if step % 50 == 0:\n",
    "\n",
    "            test_output, last_layer = lor(test_x.view(-1,28*28))\n",
    "            pred_y = torch.max(test_output, 1)[1].data.numpy()\n",
    "            accuracy = float((pred_y == test_y.data.numpy()).astype(int).sum()) / float(test_y.size(0))\n",
    "            print('Epoch: ', epoch, '| train loss: %.4f' % loss.data.numpy(), '| test accuracy: %.2f' % accuracy)\n",
    "            # if HAS_SK:\n",
    "            #     # Visualization of trained flatten layer (T-SNE)\n",
    "            #     tsne = TSNE(perplexity=30, n_components=2, init='pca', n_iter=5000)\n",
    "            #     plot_only = 500\n",
    "            #     low_dim_embs = tsne.fit_transform(last_layer.data.numpy()[:plot_only, :])\n",
    "            #     labels = test_y.numpy()[:plot_only]\n",
    "            #     plot_with_labels(low_dim_embs, labels)\n",
    "# plt.ioff()\n",
    "\n",
    "# print 10 predictions from test data\n",
    "test_output, _ = lor(test_x[:10].view(-1,28*28))\n",
    "pred_y = torch.max(test_output, 1)[1].data.numpy()\n",
    "print(pred_y, 'prediction number')\n",
    "print(test_y[:10].numpy(), 'real number')"
   ]
  }
 ],
 "metadata": {
  "kernelspec": {
   "display_name": "Python 3 (ipykernel)",
   "language": "python",
   "name": "python3"
  },
  "language_info": {
   "codemirror_mode": {
    "name": "ipython",
    "version": 3
   },
   "file_extension": ".py",
   "mimetype": "text/x-python",
   "name": "python",
   "nbconvert_exporter": "python",
   "pygments_lexer": "ipython3",
   "version": "3.9.7"
  }
 },
 "nbformat": 4,
 "nbformat_minor": 5
}
