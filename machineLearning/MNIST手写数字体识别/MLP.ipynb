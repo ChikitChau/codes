{
 "cells": [
  {
   "cell_type": "code",
   "execution_count": 1,
   "id": "b61619a7",
   "metadata": {},
   "outputs": [],
   "source": [
    "%matplotlib inline\n",
    "import torch\n",
    "import torch.nn as nn\n",
    "import torch.optim as optim\n",
    "from torch.autograd import Variable\n",
    "import torchvision\n",
    "import torchvision.datasets as dsets\n",
    "import torchvision.transforms as transforms\n",
    "import numpy as np\n",
    "import matplotlib.pyplot as plt"
   ]
  },
  {
   "cell_type": "code",
   "execution_count": 2,
   "id": "e30423b9",
   "metadata": {},
   "outputs": [],
   "source": [
    "# 定义超参数\n",
    "image_size = 28\n",
    "num_classes = 10\n",
    "num_epochs = 1\n",
    "batch_size = 64\n",
    "learning_rate = 0.001\n",
    "device = torch.device('cuda' if torch.cuda.is_available() else 'cpu')"
   ]
  },
  {
   "cell_type": "code",
   "execution_count": 3,
   "id": "574d113b",
   "metadata": {},
   "outputs": [],
   "source": [
    "# 构建pipeline，对图像处理\n",
    "pipeline = transforms.Compose([\n",
    "    transforms.ToTensor(),\n",
    "    transforms.Normalize((0.1307,),(0.3081,))\n",
    "])"
   ]
  },
  {
   "cell_type": "code",
   "execution_count": 4,
   "id": "06e5543a",
   "metadata": {},
   "outputs": [],
   "source": [
    "# 下载、加载数据集\n",
    "train_dataset = dsets.MNIST(root='./data',\n",
    "                        train=True,\n",
    "                        download=True,\n",
    "                        transform=pipeline) \n",
    "test_dataset = dsets.MNIST(root='./data',\n",
    "                       train=False,\n",
    "                       download=True,\n",
    "                       transform=pipeline) \n",
    "\n",
    "train_loader = torch.utils.data.DataLoader(dataset=train_dataset,\n",
    "                                           batch_size=batch_size,\n",
    "                                           shuffle=True)\n",
    "test_loader = torch.utils.data.DataLoader(dataset=test_dataset,\n",
    "                                          batch_size=batch_size,\n",
    "                                          shuffle=True)\n",
    "\n",
    "indices = range(len(test_dataset))\n",
    "indices_val = indices[:5000]\n",
    "indices_test = indices[5000:]\n",
    "\n",
    "sampler_val = torch.utils.data.sampler.SubsetRandomSampler(indices_val)\n",
    "sampler_test = torch.utils.data.sampler.SubsetRandomSampler(indices_test)\n",
    "\n",
    "validation_loader = torch.utils.data.DataLoader(dataset=test_dataset,\n",
    "                                               batch_size=batch_size,\n",
    "                                               shuffle=False,\n",
    "                                               sampler=sampler_val)\n",
    "test_loader = torch.utils.data.DataLoader(dataset=test_dataset,\n",
    "                                          batch_size=batch_size,\n",
    "                                          shuffle=False,\n",
    "                                          sampler=sampler_test)"
   ]
  },
  {
   "cell_type": "code",
   "execution_count": 5,
   "id": "304a8d2f",
   "metadata": {},
   "outputs": [],
   "source": [
    "# # 构建网络\n",
    "# neure = list(range(10, 200, 20))\n",
    "# class MLP(nn.Module):\n",
    "#     def __init__(self):\n",
    "#         super(MLP, self).__init__()\n",
    "#         self.mlp = nn.Sequential(\n",
    "#             nn.Linear(image_size * image_size, ),\n",
    "#             nn.Linear(512, num_classes))\n",
    "#     def forward(self, x):\n",
    "#         output = self.mlp(x)\n",
    "#         return output, x"
   ]
  },
  {
   "cell_type": "code",
   "execution_count": 6,
   "id": "42c75e62",
   "metadata": {},
   "outputs": [],
   "source": [
    "# model = MLP().to(device)\n",
    "# optimizer = torch.optim.Adam(mlp.parameters(), lr=learning_rate)\n",
    "# loss = nn.CrossEntropyLoss()"
   ]
  },
  {
   "cell_type": "code",
   "execution_count": 7,
   "id": "79c99217",
   "metadata": {},
   "outputs": [],
   "source": [
    "def rightness(predictions, labels):\n",
    "    pred = torch.max(predictions.data, 1)[1]\n",
    "    pred = pred.to(device)\n",
    "    rights = pred.eq(labels.data.view_as(pred).to(device)).sum()\n",
    "    rights = rights.to(device)\n",
    "    return rights, len(labels)"
   ]
  },
  {
   "cell_type": "code",
   "execution_count": 8,
   "id": "4b23da6a",
   "metadata": {},
   "outputs": [
    {
     "name": "stdout",
     "output_type": "stream",
     "text": [
      "训练进度:100.00%"
     ]
    }
   ],
   "source": [
    "num_neures = list(range(10, 200, 20))\n",
    "loss_list = []\n",
    "count = 0\n",
    "\n",
    "record = []\n",
    "weights = []\n",
    "\n",
    "for neure in num_neures:\n",
    "    class MLP(nn.Module):\n",
    "        def __init__(self):\n",
    "            super(MLP, self).__init__()\n",
    "            self.mlp = nn.Sequential(\n",
    "                nn.Linear(image_size * image_size, neure),\n",
    "                nn.Linear(neure, num_classes))\n",
    "        def forward(self, x):\n",
    "            x = x.view(-1, image_size * image_size)\n",
    "            output = self.mlp(x)\n",
    "            return output   \n",
    "    \n",
    "    model = MLP().to(device)\n",
    "    optimizer = torch.optim.Adam(model.parameters(), lr=learning_rate)\n",
    "    criterion = nn.CrossEntropyLoss()\n",
    "    \n",
    "\n",
    "    for batch_idx, (data, target) in enumerate(train_loader):\n",
    "        train_rights = []\n",
    "        \n",
    "        model.train()\n",
    "        data, target = Variable(data).to(device), Variable(target).to(device)\n",
    "        output = model(data)\n",
    "        loss = criterion(output, target)\n",
    "        optimizer.zero_grad()\n",
    "        loss.backward()\n",
    "        optimizer.step()\n",
    "    \n",
    "    if batch_idx % 30 == 0:\n",
    "        model.eval()\n",
    "        val_rights = []\n",
    "\n",
    "        for (data, target) in validation_loader:\n",
    "            data, traget = Variable(data).to(device), Variable(target).to(device)\n",
    "            # data, traget = Variable(data), Variable(target)\n",
    "            output = net(data)\n",
    "            right = rightness(output, target)\n",
    "            val_rights.append(right)\n",
    "\n",
    "        train_r = (sum([tup[0] for tup in train_rights]), sum([tup[1] for tup in train_rights]))\n",
    "        val_r = (sum([tup[0] for tup in val_rights]), sum([tup[1] for tup in val_rights]))\n",
    "        print('训练周期:{}[{}/{}({:.0f}%)]\\t, Loss:{:.6f}\\t, 训练正确率:{:.2f}%\\t, 校检正确率:{:.2f}%'.format(\n",
    "            epoch, batch_idx * len(data), len(train_loader.dataset),\n",
    "            100. * batch_idx / len(train_loader), loss.item(),\n",
    "            100. * train_r[0] / train_r[1],\n",
    "            100. * val_r[0] / val_r[1]))\n",
    "\n",
    "        record.append(((100 - 100. * train_r[0] / train_r[1]).cpu(),\n",
    "                       (100 - 100. * val_r[0] / val_r[1]).cpu()))\n",
    "        model.eval()\n",
    "    \n",
    "    loss_list.append(loss.item())\n",
    "    count += 1.\n",
    "    print('\\r训练进度:{:.2f}%'.format(count / len(num_neures) * 100), end='')"
   ]
  },
  {
   "cell_type": "code",
   "execution_count": 9,
   "id": "e079bc61",
   "metadata": {},
   "outputs": [
    {
     "name": "stdout",
     "output_type": "stream",
     "text": [
      "MLP(\n",
      "  (mlp): Sequential(\n",
      "    (0): Linear(in_features=784, out_features=190, bias=True)\n",
      "    (1): Linear(in_features=190, out_features=10, bias=True)\n",
      "  )\n",
      ")\n"
     ]
    }
   ],
   "source": [
    "print(model)"
   ]
  },
  {
   "cell_type": "code",
   "execution_count": 10,
   "id": "a88cd95f",
   "metadata": {},
   "outputs": [
    {
     "data": {
      "text/plain": [
       "[0.5781953930854797,\n",
       " 0.4566301703453064,\n",
       " 0.9274514317512512,\n",
       " 0.16988861560821533,\n",
       " 0.17005279660224915,\n",
       " 0.4711524248123169,\n",
       " 0.34571120142936707,\n",
       " 0.282652348279953,\n",
       " 0.2480037808418274,\n",
       " 0.42062607407569885]"
      ]
     },
     "execution_count": 10,
     "metadata": {},
     "output_type": "execute_result"
    }
   ],
   "source": [
    "loss_list"
   ]
  },
  {
   "cell_type": "code",
   "execution_count": 11,
   "id": "ea8f21fa",
   "metadata": {},
   "outputs": [
    {
     "data": {
      "text/plain": [
       "[10, 30, 50, 70, 90, 110, 130, 150, 170, 190]"
      ]
     },
     "execution_count": 11,
     "metadata": {},
     "output_type": "execute_result"
    }
   ],
   "source": [
    "num_neures"
   ]
  },
  {
   "cell_type": "code",
   "execution_count": null,
   "id": "ec17d28d",
   "metadata": {},
   "outputs": [],
   "source": []
  }
 ],
 "metadata": {
  "kernelspec": {
   "display_name": "Python 3 (ipykernel)",
   "language": "python",
   "name": "python3"
  },
  "language_info": {
   "codemirror_mode": {
    "name": "ipython",
    "version": 3
   },
   "file_extension": ".py",
   "mimetype": "text/x-python",
   "name": "python",
   "nbconvert_exporter": "python",
   "pygments_lexer": "ipython3",
   "version": "3.9.7"
  }
 },
 "nbformat": 4,
 "nbformat_minor": 5
}
