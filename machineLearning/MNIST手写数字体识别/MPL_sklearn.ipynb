{
 "cells": [
  {
   "cell_type": "code",
   "execution_count": 1,
   "id": "c4ce2c1c",
   "metadata": {},
   "outputs": [],
   "source": [
    "import torch\n",
    "import torch.nn as nn\n",
    "import torch.optim as optim\n",
    "\n",
    "import torchvision.datasets as dsets\n",
    "import torchvision.transforms as transforms\n",
    "\n",
    "import numpy as np\n",
    "import matplotlib.pyplot as plt\n",
    "\n",
    "import time"
   ]
  },
  {
   "cell_type": "code",
   "execution_count": 2,
   "id": "0fa7794f",
   "metadata": {},
   "outputs": [],
   "source": [
    "pipeline = transforms.Compose([\n",
    "    transforms.ToTensor(),\n",
    "    transforms.Normalize((0.1307,),(0.3081,))\n",
    "])"
   ]
  },
  {
   "cell_type": "code",
   "execution_count": 3,
   "id": "6b169689",
   "metadata": {},
   "outputs": [],
   "source": [
    "# MNIST digits dataset\n",
    "train_dataset = dsets.MNIST(root='./data',\n",
    "                        train=True,\n",
    "                        download=True,\n",
    "                        transform=pipeline) \n",
    "test_dataset = dsets.MNIST(root='./data',\n",
    "                       train=False,\n",
    "                       download=True,\n",
    "                       transform=pipeline)\n",
    "\n",
    "# pick all samples to train, size = 60,000\n",
    "train_data = torch.unsqueeze(train_dataset.data, dim=1).type(\n",
    "    torch.FloatTensor)[:]/255\n",
    "train_target = train_dataset.targets\n",
    "\n",
    "# pick all samples to test, size = 10,000\n",
    "test_data = torch.unsqueeze(test_dataset.data, dim=1).type(\n",
    "    torch.FloatTensor)[:]/255\n",
    "test_target = test_dataset.targets"
   ]
  },
  {
   "cell_type": "code",
   "execution_count": 4,
   "id": "56106998",
   "metadata": {},
   "outputs": [],
   "source": [
    "# reshape train and test dim\n",
    "train_data = train_data.view(-1, 28*28)\n",
    "test_data = test_data.view(-1, 28*28)"
   ]
  },
  {
   "cell_type": "code",
   "execution_count": 5,
   "id": "56941912",
   "metadata": {},
   "outputs": [],
   "source": [
    "from sklearn.neural_network import MLPClassifier\n",
    "from sklearn.model_selection import train_test_split\n",
    "from sklearn.metrics import classification_report"
   ]
  },
  {
   "cell_type": "code",
   "execution_count": 6,
   "id": "a24142a3",
   "metadata": {},
   "outputs": [],
   "source": [
    "test_data, val_data, test_target, val_target = train_test_split(test_data, test_target, test_size=0.5, random_state=84)"
   ]
  },
  {
   "cell_type": "code",
   "execution_count": 7,
   "id": "90aaaa03",
   "metadata": {
    "scrolled": false
   },
   "outputs": [
    {
     "name": "stdout",
     "output_type": "stream",
     "text": [
      "learing rate:0.3,\t val_accuracy=9.880%,\t test_accuracy=10.300%\t error number:4485\n",
      "learing rate:0.03,\t val_accuracy=93.780%,\t test_accuracy=95.160%\t error number:242\n",
      "learing rate:0.003,\t val_accuracy=97.060%,\t test_accuracy=97.500%\t error number:125\n",
      "learing rate:0.0003,\t val_accuracy=96.900%,\t test_accuracy=97.060%\t error number:147\n",
      "总共的时间为: 173.36 secs\n"
     ]
    }
   ],
   "source": [
    "# 探究不同情况对MLP的影响\n",
    "val_accuracies = []\n",
    "test_accuracies = []\n",
    "error_num = []\n",
    "\n",
    "# 开始计时\n",
    "starttime = time.time()\n",
    "\n",
    "# num_neures = list(range(10, 200, 20))\n",
    "# num_iter = [10, 20, 30, 40, 50, 60]\n",
    "# num_iter = [70, 80, 90]\n",
    "learing_rate = [0.3, 0.03, 0.003, 0.0003]\n",
    "for i in range(len(learing_rate)):\n",
    "    lr = learing_rate[i]\n",
    "    model = MLPClassifier(hidden_layer_sizes=(50, 50, 50), solver='adam',\n",
    "                          activation='relu', learning_rate_init=lr, \n",
    "                          alpha=1e-5, max_iter=1000, random_state=66)\n",
    "    model.fit(train_data, train_target)\n",
    "    val_score = model.score(val_data, val_target)\n",
    "    test_score = model.score(test_data, test_target)\n",
    "    res = model.predict(test_data)\n",
    "\n",
    "    val_accuracies.append(val_score)\n",
    "    test_accuracies.append(test_score)\n",
    "\n",
    "    error = 0\n",
    "    for i in range(len(test_target)):\n",
    "        if res[i] != test_target[i]:\n",
    "            error += 1\n",
    "    error_num.append(error)\n",
    "    print('learing rate:{},\\t val_accuracy={:.3f}%,\\t test_accuracy={:.3f}%\\t error number:{}'.format(\n",
    "        lr, val_score * 100, test_score * 100, error))\n",
    "\n",
    "# 结束计时\n",
    "endtime = time.time()\n",
    "print('总共的时间为:', round(endtime - starttime, 2),'secs')"
   ]
  },
  {
   "cell_type": "code",
   "execution_count": 8,
   "id": "41e10ea0",
   "metadata": {},
   "outputs": [],
   "source": [
    "import pandas as pd\n",
    "data = {'learning rate': learing_rate, 'val_accuracy': val_accuracies, 'test_accuracy': test_accuracies, 'error number':error_num}\n",
    "df = pd.DataFrame(data)\n",
    "df.to_csv('../../期末作业/手写数字体识别临时文件/MLP学习率3.csv', index=False)"
   ]
  },
  {
   "cell_type": "code",
   "execution_count": 9,
   "id": "34db402f",
   "metadata": {},
   "outputs": [
    {
     "data": {
      "text/plain": [
       "0.0003"
      ]
     },
     "execution_count": 9,
     "metadata": {},
     "output_type": "execute_result"
    }
   ],
   "source": [
    "lr"
   ]
  },
  {
   "cell_type": "markdown",
   "id": "16b9b888",
   "metadata": {},
   "source": [
    "### 测试"
   ]
  },
  {
   "cell_type": "code",
   "execution_count": 10,
   "id": "66b0b63e",
   "metadata": {},
   "outputs": [],
   "source": [
    "# model = MLPClassifier(hidden_layer_sizes=(529, 359), solver='adam',\n",
    "#                       activation='relu', learning_rate_init=0.01, \n",
    "#                       alpha=1e-5, max_iter=1000, random_state=66)\n",
    "# model.fit(train_data, train_target)\n",
    "# val_score = model.score(val_data, val_target)\n",
    "# test_score = model.score(test_data, test_target)\n",
    "# res = model.predict(test_data)\n",
    "# val_accuracies.append(val_score)\n",
    "# test_accuracies.append(test_score)\n",
    "# error = 0\n",
    "# for i in range(len(test_target)):\n",
    "#     if res[i] != test_target[i]:\n",
    "#         error += 1\n",
    "# error_num.append(error)\n",
    "# print('neure:{},\\t val_accuracy={:.3f}%,\\t test_accuracy={:.3f}%\\t error number:{}'.format(\n",
    "#     neure, val_score * 100, test_score * 100, error))"
   ]
  },
  {
   "cell_type": "code",
   "execution_count": 11,
   "id": "62d26531",
   "metadata": {},
   "outputs": [],
   "source": [
    "# model = MLPClassifier(hidden_layer_sizes=(110, 80), solver='adam',\n",
    "#                       activation='relu', learning_rate_init=0.01, \n",
    "#                       alpha=1e-5, max_iter=1000, random_state=66)\n",
    "# model.fit(train_data, train_target)\n",
    "# val_score = model.score(val_data, val_target)\n",
    "# test_score = model.score(test_data, test_target)\n",
    "# res = model.predict(test_data)\n",
    "# val_accuracies.append(val_score)\n",
    "# test_accuracies.append(test_score)\n",
    "# error = 0\n",
    "# for i in range(len(test_target)):\n",
    "#     if res[i] != test_target[i]:\n",
    "#         error += 1\n",
    "# error_num.append(error)\n",
    "# print('neure:{},\\t val_accuracy={:.3f}%,\\t test_accuracy={:.3f}%\\t error number:{}'.format(\n",
    "#     neure, val_score * 100, test_score * 100, error))"
   ]
  },
  {
   "cell_type": "code",
   "execution_count": 12,
   "id": "2af9ed47",
   "metadata": {},
   "outputs": [],
   "source": [
    "# model = MLPClassifier(hidden_layer_sizes=50, solver='adam',\n",
    "#                       activation='relu', learning_rate_init=0.01, \n",
    "#                       alpha=1e-5, max_iter=50, random_state=66)\n",
    "# model.fit(train_data, train_target)\n",
    "# val_score = model.score(val_data, val_target)\n",
    "# test_score = model.score(test_data, test_target)\n",
    "# res = model.predict(test_data)\n",
    "# val_accuracies.append(val_score)\n",
    "# test_accuracies.append(test_score)\n",
    "# error = 0\n",
    "# for i in range(len(test_target)):\n",
    "#     if res[i] != test_target[i]:\n",
    "#         error += 1\n",
    "# error_num.append(error)\n",
    "# print('val_accuracy={:.3f}%,\\t test_accuracy={:.3f}%\\t error number:{}'.format(\n",
    "#     val_score * 100, test_score * 100, error))"
   ]
  },
  {
   "cell_type": "code",
   "execution_count": 13,
   "id": "a2b520c6",
   "metadata": {},
   "outputs": [],
   "source": [
    "# model = MLPClassifier(hidden_layer_sizes=(50, 50), solver='adam',\n",
    "#                       activation='relu', learning_rate_init=0.01, \n",
    "#                       alpha=1e-5, max_iter=1000, random_state=66)\n",
    "# model.fit(train_data, train_target)\n",
    "# val_score = model.score(val_data, val_target)\n",
    "# test_score = model.score(test_data, test_target)\n",
    "# res = model.predict(test_data)\n",
    "# val_accuracies.append(val_score)\n",
    "# test_accuracies.append(test_score)\n",
    "# error = 0\n",
    "# for i in range(len(test_target)):\n",
    "#     if res[i] != test_target[i]:\n",
    "#         error += 1\n",
    "# error_num.append(error)\n",
    "# print('neure:{},\\t val_accuracy={:.3f}%,\\t test_accuracy={:.3f}%\\t error number:{}'.format(\n",
    "#     neure, val_score * 100, test_score * 100, error))"
   ]
  },
  {
   "cell_type": "code",
   "execution_count": null,
   "id": "dae965b9",
   "metadata": {},
   "outputs": [],
   "source": []
  }
 ],
 "metadata": {
  "kernelspec": {
   "display_name": "Python 3 (ipykernel)",
   "language": "python",
   "name": "python3"
  },
  "language_info": {
   "codemirror_mode": {
    "name": "ipython",
    "version": 3
   },
   "file_extension": ".py",
   "mimetype": "text/x-python",
   "name": "python",
   "nbconvert_exporter": "python",
   "pygments_lexer": "ipython3",
   "version": "3.9.7"
  }
 },
 "nbformat": 4,
 "nbformat_minor": 5
}
