{
 "cells": [
  {
   "cell_type": "code",
   "execution_count": 1,
   "id": "c3691f65",
   "metadata": {},
   "outputs": [],
   "source": [
    "# 导入数据\n",
    "import torch\n",
    "import torch.nn as nn\n",
    "import torch.optim as optim\n",
    "from torch.autograd import Variable\n",
    "import torch.nn.functional as F\n",
    "\n",
    "import torchvision.datasets as dsets\n",
    "import torchvision.transforms as transforms\n",
    "\n",
    "import matplotlib.pyplot as plt\n",
    "import numpy as np\n",
    "\n",
    "plt.rcParams['font.sans-serif']=['SimHei'] #显示中文标签\n",
    "plt.rcParams['axes.unicode_minus']=False\n",
    "\n",
    "%matplotlib inline"
   ]
  },
  {
   "cell_type": "code",
   "execution_count": 2,
   "id": "7896fad2",
   "metadata": {},
   "outputs": [],
   "source": [
    "# 定义超参数\n",
    "image_size = 28\n",
    "num_classes = 10\n",
    "num_epochs = 20\n",
    "batch_size = 64\n",
    "learning_rate = 0.001\n",
    "device = torch.device('cuda' if torch.cuda.is_available() else 'cpu')"
   ]
  },
  {
   "cell_type": "code",
   "execution_count": 3,
   "id": "a05e1a88",
   "metadata": {},
   "outputs": [],
   "source": [
    "# 构建pipeline，对图像处理\n",
    "pipeline = transforms.Compose([\n",
    "    transforms.ToTensor(),\n",
    "    transforms.Normalize((0.1307,),(0.3081,))\n",
    "])"
   ]
  },
  {
   "cell_type": "code",
   "execution_count": 4,
   "id": "532739ca",
   "metadata": {},
   "outputs": [],
   "source": [
    "# 下载、加载数据集\n",
    "train_dataset = dsets.MNIST(root='./data',\n",
    "                        train=True,\n",
    "                        download=True,\n",
    "                        transform=pipeline) \n",
    "test_dataset = dsets.MNIST(root='./data',\n",
    "                       train=False,\n",
    "                       download=True,\n",
    "                       transform=pipeline) \n",
    "\n",
    "train_loader = torch.utils.data.DataLoader(dataset=train_dataset,\n",
    "                                           batch_size=batch_size,\n",
    "                                           shuffle=True)\n",
    "test_loader = torch.utils.data.DataLoader(dataset=test_dataset,\n",
    "                                          batch_size=batch_size,\n",
    "                                          shuffle=True)\n",
    "\n",
    "indices = range(len(test_dataset))\n",
    "indices_val = indices[:5000]\n",
    "indices_test = indices[5000:]\n",
    "\n",
    "sampler_val = torch.utils.data.sampler.SubsetRandomSampler(indices_val)\n",
    "sampler_test = torch.utils.data.sampler.SubsetRandomSampler(indices_test)\n",
    "\n",
    "validation_loader = torch.utils.data.DataLoader(dataset=test_dataset,\n",
    "                                               batch_size=batch_size,\n",
    "                                               shuffle=False,\n",
    "                                               sampler=sampler_val)\n",
    "test_loader = torch.utils.data.DataLoader(dataset=test_dataset,\n",
    "                                          batch_size=batch_size,\n",
    "                                          shuffle=False,\n",
    "                                          sampler=sampler_test)"
   ]
  },
  {
   "cell_type": "code",
   "execution_count": 5,
   "id": "d8e31976",
   "metadata": {},
   "outputs": [],
   "source": [
    "depth = [4, 8]\n",
    "class ConvNet(nn.Module):\n",
    "    def __init__(self):\n",
    "        super(ConvNet, self).__init__()\n",
    "        \n",
    "        self.conv1 = nn.Conv2d(1, 4, 5, padding=2)\n",
    "        self.pool = nn.MaxPool2d(2, 2)\n",
    "        \n",
    "        self.conv2 = nn.Conv2d(depth[0], depth[1], 5, padding=2)\n",
    "        \n",
    "        self.fc1 = nn.Linear(image_size // 4 * image_size // 4 * depth[1], 512)\n",
    "        self.fc2 = nn.Linear(512, num_classes)\n",
    "        \n",
    "    def forward(self, x):\n",
    "        x = self.conv1(x)\n",
    "        x = F.relu(x)\n",
    "        x = self.pool(x)\n",
    "        \n",
    "        x = self.conv2(x)\n",
    "        x = F.relu(x)\n",
    "        x = self.pool(x)\n",
    "        \n",
    "        x = x.view(-1, image_size // 4 * image_size // 4 * depth[1])\n",
    "        x = self.fc1(x)\n",
    "        x = F.relu(x)\n",
    "        \n",
    "        x = F.dropout(x, training=self.training)\n",
    "        x = self.fc2(x)\n",
    "        \n",
    "        x = F.log_softmax(x, dim=1)\n",
    "        \n",
    "        return x\n",
    "    \n",
    "    def retrieve_features(self, x):\n",
    "        feature_map1 = F.relu(self.conv1(x))\n",
    "        x = self.pool(feature_map1)\n",
    "        feature_map2 = F.relu(self.conv2(x))\n",
    "        \n",
    "        return (feature_map1, feature_map2)"
   ]
  },
  {
   "cell_type": "code",
   "execution_count": 6,
   "id": "d3287a20",
   "metadata": {},
   "outputs": [],
   "source": [
    "def rightness(predictions, labels):\n",
    "    pred = torch.max(predictions.data, 1)[1]\n",
    "    pred = pred.to(device)\n",
    "    rights = pred.eq(labels.data.view_as(pred).to(device)).sum()\n",
    "    rights = rights.to(device)\n",
    "    return rights, len(labels)"
   ]
  },
  {
   "cell_type": "code",
   "execution_count": 7,
   "id": "4488494a",
   "metadata": {
    "scrolled": false
   },
   "outputs": [
    {
     "name": "stdout",
     "output_type": "stream",
     "text": [
      "训练周期:0[0/60000(0%)]\t, Loss:2.283444\t, 训练正确率:12.50%\t, 校检正确率:12.86%\n",
      "训练周期:0[800/60000(11%)]\t, Loss:2.104349\t, 训练正确率:19.83%\t, 校检正确率:40.66%\n",
      "训练周期:0[1600/60000(21%)]\t, Loss:1.086342\t, 训练正确率:36.61%\t, 校检正确率:75.38%\n",
      "训练周期:0[2400/60000(32%)]\t, Loss:0.525027\t, 训练正确率:49.76%\t, 校检正确率:83.00%\n",
      "训练周期:0[3200/60000(43%)]\t, Loss:0.573587\t, 训练正确率:58.11%\t, 校检正确率:86.20%\n",
      "训练周期:0[4000/60000(53%)]\t, Loss:0.402155\t, 训练正确率:63.75%\t, 校检正确率:87.74%\n",
      "训练周期:0[4800/60000(64%)]\t, Loss:0.274965\t, 训练正确率:67.69%\t, 校检正确率:88.50%\n",
      "训练周期:0[5600/60000(75%)]\t, Loss:0.462362\t, 训练正确率:70.68%\t, 校检正确率:90.00%\n",
      "训练周期:0[6400/60000(85%)]\t, Loss:0.205337\t, 训练正确率:73.11%\t, 校检正确率:90.58%\n",
      "训练周期:0[7200/60000(96%)]\t, Loss:0.212629\t, 训练正确率:75.03%\t, 校检正确率:91.28%\n",
      "训练周期:1[0/60000(0%)]\t, Loss:0.286257\t, 训练正确率:90.62%\t, 校检正确率:91.18%\n",
      "训练周期:1[800/60000(11%)]\t, Loss:0.206978\t, 训练正确率:91.79%\t, 校检正确率:91.80%\n",
      "训练周期:1[1600/60000(21%)]\t, Loss:0.234958\t, 训练正确率:91.86%\t, 校检正确率:92.62%\n",
      "训练周期:1[2400/60000(32%)]\t, Loss:0.091989\t, 训练正确率:92.10%\t, 校检正确率:93.26%\n",
      "训练周期:1[3200/60000(43%)]\t, Loss:0.268219\t, 训练正确率:92.25%\t, 校检正确率:93.48%\n",
      "训练周期:1[4000/60000(53%)]\t, Loss:0.124696\t, 训练正确率:92.41%\t, 校检正确率:93.70%\n",
      "训练周期:1[4800/60000(64%)]\t, Loss:0.148327\t, 训练正确率:92.65%\t, 校检正确率:93.52%\n",
      "训练周期:1[5600/60000(75%)]\t, Loss:0.270841\t, 训练正确率:92.78%\t, 校检正确率:93.86%\n",
      "训练周期:1[6400/60000(85%)]\t, Loss:0.100476\t, 训练正确率:92.91%\t, 校检正确率:93.98%\n",
      "训练周期:1[7200/60000(96%)]\t, Loss:0.124228\t, 训练正确率:93.05%\t, 校检正确率:94.10%\n",
      "训练周期:2[0/60000(0%)]\t, Loss:0.183037\t, 训练正确率:96.88%\t, 校检正确率:94.28%\n",
      "训练周期:2[800/60000(11%)]\t, Loss:0.214688\t, 训练正确率:94.34%\t, 校检正确率:94.66%\n",
      "训练周期:2[1600/60000(21%)]\t, Loss:0.101636\t, 训练正确率:94.63%\t, 校检正确率:95.04%\n",
      "训练周期:2[2400/60000(32%)]\t, Loss:0.107391\t, 训练正确率:94.63%\t, 校检正确率:95.10%\n",
      "训练周期:2[3200/60000(43%)]\t, Loss:0.130205\t, 训练正确率:94.63%\t, 校检正确率:95.20%\n",
      "训练周期:2[4000/60000(53%)]\t, Loss:0.129011\t, 训练正确率:94.74%\t, 校检正确率:95.10%\n",
      "训练周期:2[4800/60000(64%)]\t, Loss:0.120585\t, 训练正确率:94.73%\t, 校检正确率:95.42%\n",
      "训练周期:2[5600/60000(75%)]\t, Loss:0.188246\t, 训练正确率:94.79%\t, 校检正确率:95.48%\n",
      "训练周期:2[6400/60000(85%)]\t, Loss:0.108750\t, 训练正确率:94.82%\t, 校检正确率:95.78%\n",
      "训练周期:2[7200/60000(96%)]\t, Loss:0.097519\t, 训练正确率:94.90%\t, 校检正确率:95.60%\n",
      "训练周期:3[0/60000(0%)]\t, Loss:0.140244\t, 训练正确率:95.31%\t, 校检正确率:95.96%\n",
      "训练周期:3[800/60000(11%)]\t, Loss:0.146585\t, 训练正确率:95.48%\t, 校检正确率:96.00%\n",
      "训练周期:3[1600/60000(21%)]\t, Loss:0.168459\t, 训练正确率:95.92%\t, 校检正确率:95.66%\n",
      "训练周期:3[2400/60000(32%)]\t, Loss:0.174947\t, 训练正确率:95.91%\t, 校检正确率:95.72%\n",
      "训练周期:3[3200/60000(43%)]\t, Loss:0.122050\t, 训练正确率:95.89%\t, 校检正确率:96.10%\n",
      "训练周期:3[4000/60000(53%)]\t, Loss:0.090677\t, 训练正确率:95.86%\t, 校检正确率:96.30%\n",
      "训练周期:3[4800/60000(64%)]\t, Loss:0.101667\t, 训练正确率:95.86%\t, 校检正确率:96.42%\n",
      "训练周期:3[5600/60000(75%)]\t, Loss:0.137038\t, 训练正确率:95.89%\t, 校检正确率:96.40%\n",
      "训练周期:3[6400/60000(85%)]\t, Loss:0.115058\t, 训练正确率:95.94%\t, 校检正确率:96.40%\n",
      "训练周期:3[7200/60000(96%)]\t, Loss:0.074388\t, 训练正确率:95.97%\t, 校检正确率:96.32%\n",
      "训练周期:4[0/60000(0%)]\t, Loss:0.064561\t, 训练正确率:96.88%\t, 校检正确率:96.36%\n",
      "训练周期:4[800/60000(11%)]\t, Loss:0.078978\t, 训练正确率:96.44%\t, 校检正确率:96.22%\n",
      "训练周期:4[1600/60000(21%)]\t, Loss:0.044881\t, 训练正确率:96.46%\t, 校检正确率:96.50%\n",
      "训练周期:4[2400/60000(32%)]\t, Loss:0.148565\t, 训练正确率:96.41%\t, 校检正确率:96.66%\n",
      "训练周期:4[3200/60000(43%)]\t, Loss:0.072937\t, 训练正确率:96.43%\t, 校检正确率:96.34%\n",
      "训练周期:4[4000/60000(53%)]\t, Loss:0.078223\t, 训练正确率:96.48%\t, 校检正确率:96.54%\n",
      "训练周期:4[4800/60000(64%)]\t, Loss:0.095681\t, 训练正确率:96.49%\t, 校检正确率:96.42%\n",
      "训练周期:4[5600/60000(75%)]\t, Loss:0.109046\t, 训练正确率:96.41%\t, 校检正确率:96.68%\n",
      "训练周期:4[6400/60000(85%)]\t, Loss:0.093956\t, 训练正确率:96.40%\t, 校检正确率:96.92%\n",
      "训练周期:4[7200/60000(96%)]\t, Loss:0.074701\t, 训练正确率:96.47%\t, 校检正确率:96.64%\n",
      "训练周期:5[0/60000(0%)]\t, Loss:0.087784\t, 训练正确率:96.88%\t, 校检正确率:96.84%\n",
      "训练周期:5[800/60000(11%)]\t, Loss:0.150229\t, 训练正确率:96.98%\t, 校检正确率:96.84%\n",
      "训练周期:5[1600/60000(21%)]\t, Loss:0.133106\t, 训练正确率:96.84%\t, 校检正确率:96.82%\n",
      "训练周期:5[2400/60000(32%)]\t, Loss:0.348167\t, 训练正确率:96.73%\t, 校检正确率:96.94%\n",
      "训练周期:5[3200/60000(43%)]\t, Loss:0.183534\t, 训练正确率:96.77%\t, 校检正确率:96.96%\n",
      "训练周期:5[4000/60000(53%)]\t, Loss:0.211232\t, 训练正确率:96.78%\t, 校检正确率:97.04%\n",
      "训练周期:5[4800/60000(64%)]\t, Loss:0.015618\t, 训练正确率:96.81%\t, 校检正确率:97.12%\n",
      "训练周期:5[5600/60000(75%)]\t, Loss:0.161322\t, 训练正确率:96.86%\t, 校检正确率:96.82%\n",
      "训练周期:5[6400/60000(85%)]\t, Loss:0.077861\t, 训练正确率:96.88%\t, 校检正确率:96.88%\n",
      "训练周期:5[7200/60000(96%)]\t, Loss:0.030471\t, 训练正确率:96.88%\t, 校检正确率:97.16%\n",
      "训练周期:6[0/60000(0%)]\t, Loss:0.059935\t, 训练正确率:98.44%\t, 校检正确率:97.20%\n",
      "训练周期:6[800/60000(11%)]\t, Loss:0.059571\t, 训练正确率:97.42%\t, 校检正确率:96.84%\n",
      "训练周期:6[1600/60000(21%)]\t, Loss:0.191272\t, 训练正确率:97.37%\t, 校检正确率:97.06%\n",
      "训练周期:6[2400/60000(32%)]\t, Loss:0.075014\t, 训练正确率:97.11%\t, 校检正确率:97.36%\n",
      "训练周期:6[3200/60000(43%)]\t, Loss:0.049172\t, 训练正确率:97.15%\t, 校检正确率:97.20%\n",
      "训练周期:6[4000/60000(53%)]\t, Loss:0.116207\t, 训练正确率:97.10%\t, 校检正确率:97.40%\n",
      "训练周期:6[4800/60000(64%)]\t, Loss:0.041296\t, 训练正确率:97.16%\t, 校检正确率:96.94%\n",
      "训练周期:6[5600/60000(75%)]\t, Loss:0.074820\t, 训练正确率:97.14%\t, 校检正确率:97.24%\n",
      "训练周期:6[6400/60000(85%)]\t, Loss:0.131560\t, 训练正确率:97.14%\t, 校检正确率:96.96%\n",
      "训练周期:6[7200/60000(96%)]\t, Loss:0.114988\t, 训练正确率:97.15%\t, 校检正确率:97.28%\n",
      "训练周期:7[0/60000(0%)]\t, Loss:0.025296\t, 训练正确率:100.00%\t, 校检正确率:97.16%\n",
      "训练周期:7[800/60000(11%)]\t, Loss:0.050741\t, 训练正确率:97.37%\t, 校检正确率:97.30%\n",
      "训练周期:7[1600/60000(21%)]\t, Loss:0.018897\t, 训练正确率:97.43%\t, 校检正确率:97.40%\n",
      "训练周期:7[2400/60000(32%)]\t, Loss:0.074488\t, 训练正确率:97.43%\t, 校检正确率:97.20%\n",
      "训练周期:7[3200/60000(43%)]\t, Loss:0.028846\t, 训练正确率:97.48%\t, 校检正确率:97.42%\n",
      "训练周期:7[4000/60000(53%)]\t, Loss:0.097199\t, 训练正确率:97.46%\t, 校检正确率:97.56%\n",
      "训练周期:7[4800/60000(64%)]\t, Loss:0.068155\t, 训练正确率:97.44%\t, 校检正确率:97.18%\n",
      "训练周期:7[5600/60000(75%)]\t, Loss:0.149539\t, 训练正确率:97.45%\t, 校检正确率:97.38%\n",
      "训练周期:7[6400/60000(85%)]\t, Loss:0.043048\t, 训练正确率:97.49%\t, 校检正确率:97.54%\n",
      "训练周期:7[7200/60000(96%)]\t, Loss:0.146405\t, 训练正确率:97.49%\t, 校检正确率:97.48%\n",
      "训练周期:8[0/60000(0%)]\t, Loss:0.087872\t, 训练正确率:96.88%\t, 校检正确率:97.36%\n",
      "训练周期:8[800/60000(11%)]\t, Loss:0.079593\t, 训练正确率:97.76%\t, 校检正确率:97.48%\n",
      "训练周期:8[1600/60000(21%)]\t, Loss:0.032984\t, 训练正确率:97.63%\t, 校检正确率:97.56%\n",
      "训练周期:8[2400/60000(32%)]\t, Loss:0.033827\t, 训练正确率:97.65%\t, 校检正确率:97.58%\n",
      "训练周期:8[3200/60000(43%)]\t, Loss:0.072309\t, 训练正确率:97.62%\t, 校检正确率:97.60%\n",
      "训练周期:8[4000/60000(53%)]\t, Loss:0.025885\t, 训练正确率:97.63%\t, 校检正确率:97.58%\n",
      "训练周期:8[4800/60000(64%)]\t, Loss:0.081708\t, 训练正确率:97.65%\t, 校检正确率:97.54%\n",
      "训练周期:8[5600/60000(75%)]\t, Loss:0.047911\t, 训练正确率:97.63%\t, 校检正确率:97.70%\n",
      "训练周期:8[6400/60000(85%)]\t, Loss:0.050041\t, 训练正确率:97.62%\t, 校检正确率:97.62%\n",
      "训练周期:8[7200/60000(96%)]\t, Loss:0.102393\t, 训练正确率:97.62%\t, 校检正确率:97.42%\n",
      "训练周期:9[0/60000(0%)]\t, Loss:0.040042\t, 训练正确率:98.44%\t, 校检正确率:97.42%\n",
      "训练周期:9[800/60000(11%)]\t, Loss:0.084621\t, 训练正确率:97.69%\t, 校检正确率:97.86%\n",
      "训练周期:9[1600/60000(21%)]\t, Loss:0.143874\t, 训练正确率:97.72%\t, 校检正确率:97.62%\n",
      "训练周期:9[2400/60000(32%)]\t, Loss:0.057297\t, 训练正确率:97.71%\t, 校检正确率:97.68%\n",
      "训练周期:9[3200/60000(43%)]\t, Loss:0.064181\t, 训练正确率:97.83%\t, 校检正确率:97.66%\n",
      "训练周期:9[4000/60000(53%)]\t, Loss:0.105809\t, 训练正确率:97.84%\t, 校检正确率:97.80%\n",
      "训练周期:9[4800/60000(64%)]\t, Loss:0.117490\t, 训练正确率:97.87%\t, 校检正确率:97.74%\n",
      "训练周期:9[5600/60000(75%)]\t, Loss:0.124065\t, 训练正确率:97.87%\t, 校检正确率:97.78%\n",
      "训练周期:9[6400/60000(85%)]\t, Loss:0.040887\t, 训练正确率:97.86%\t, 校检正确率:97.72%\n",
      "训练周期:9[7200/60000(96%)]\t, Loss:0.068983\t, 训练正确率:97.85%\t, 校检正确率:97.68%\n",
      "训练周期:10[0/60000(0%)]\t, Loss:0.022912\t, 训练正确率:100.00%\t, 校检正确率:97.92%\n",
      "训练周期:10[800/60000(11%)]\t, Loss:0.094839\t, 训练正确率:97.31%\t, 校检正确率:97.62%\n",
      "训练周期:10[1600/60000(21%)]\t, Loss:0.014422\t, 训练正确率:97.70%\t, 校检正确率:97.86%\n",
      "训练周期:10[2400/60000(32%)]\t, Loss:0.037410\t, 训练正确率:97.70%\t, 校检正确率:97.70%\n",
      "训练周期:10[3200/60000(43%)]\t, Loss:0.115591\t, 训练正确率:97.80%\t, 校检正确率:97.76%\n",
      "训练周期:10[4000/60000(53%)]\t, Loss:0.015565\t, 训练正确率:97.86%\t, 校检正确率:97.74%\n",
      "训练周期:10[4800/60000(64%)]\t, Loss:0.071062\t, 训练正确率:97.85%\t, 校检正确率:97.68%\n",
      "训练周期:10[5600/60000(75%)]\t, Loss:0.011171\t, 训练正确率:97.85%\t, 校检正确率:97.86%\n",
      "训练周期:10[6400/60000(85%)]\t, Loss:0.035459\t, 训练正确率:97.89%\t, 校检正确率:97.80%\n",
      "训练周期:10[7200/60000(96%)]\t, Loss:0.015927\t, 训练正确率:97.90%\t, 校检正确率:98.00%\n",
      "训练周期:11[0/60000(0%)]\t, Loss:0.044634\t, 训练正确率:98.44%\t, 校检正确率:98.18%\n",
      "训练周期:11[800/60000(11%)]\t, Loss:0.017118\t, 训练正确率:98.08%\t, 校检正确率:97.94%\n",
      "训练周期:11[1600/60000(21%)]\t, Loss:0.008994\t, 训练正确率:98.07%\t, 校检正确率:98.06%\n",
      "训练周期:11[2400/60000(32%)]\t, Loss:0.082262\t, 训练正确率:98.03%\t, 校检正确率:97.84%\n",
      "训练周期:11[3200/60000(43%)]\t, Loss:0.027967\t, 训练正确率:98.07%\t, 校检正确率:98.06%\n",
      "训练周期:11[4000/60000(53%)]\t, Loss:0.072895\t, 训练正确率:98.11%\t, 校检正确率:98.16%\n",
      "训练周期:11[4800/60000(64%)]\t, Loss:0.037650\t, 训练正确率:98.10%\t, 校检正确率:98.08%\n",
      "训练周期:11[5600/60000(75%)]\t, Loss:0.068433\t, 训练正确率:98.07%\t, 校检正确率:97.78%\n"
     ]
    },
    {
     "name": "stdout",
     "output_type": "stream",
     "text": [
      "训练周期:11[6400/60000(85%)]\t, Loss:0.194859\t, 训练正确率:98.09%\t, 校检正确率:98.00%\n",
      "训练周期:11[7200/60000(96%)]\t, Loss:0.056427\t, 训练正确率:98.05%\t, 校检正确率:97.96%\n",
      "训练周期:12[0/60000(0%)]\t, Loss:0.031652\t, 训练正确率:98.44%\t, 校检正确率:97.76%\n",
      "训练周期:12[800/60000(11%)]\t, Loss:0.132384\t, 训练正确率:98.05%\t, 校检正确率:98.00%\n",
      "训练周期:12[1600/60000(21%)]\t, Loss:0.050578\t, 训练正确率:98.08%\t, 校检正确率:98.00%\n",
      "训练周期:12[2400/60000(32%)]\t, Loss:0.063927\t, 训练正确率:98.08%\t, 校检正确率:98.04%\n",
      "训练周期:12[3200/60000(43%)]\t, Loss:0.068580\t, 训练正确率:98.00%\t, 校检正确率:98.06%\n",
      "训练周期:12[4000/60000(53%)]\t, Loss:0.150534\t, 训练正确率:98.02%\t, 校检正确率:98.08%\n",
      "训练周期:12[4800/60000(64%)]\t, Loss:0.079064\t, 训练正确率:98.07%\t, 校检正确率:98.06%\n",
      "训练周期:12[5600/60000(75%)]\t, Loss:0.018863\t, 训练正确率:98.06%\t, 校检正确率:98.18%\n",
      "训练周期:12[6400/60000(85%)]\t, Loss:0.004277\t, 训练正确率:98.05%\t, 校检正确率:97.90%\n",
      "训练周期:12[7200/60000(96%)]\t, Loss:0.012808\t, 训练正确率:98.08%\t, 校检正确率:97.98%\n",
      "训练周期:13[0/60000(0%)]\t, Loss:0.009789\t, 训练正确率:100.00%\t, 校检正确率:97.96%\n",
      "训练周期:13[800/60000(11%)]\t, Loss:0.009013\t, 训练正确率:98.22%\t, 校检正确率:97.86%\n",
      "训练周期:13[1600/60000(21%)]\t, Loss:0.007831\t, 训练正确率:98.41%\t, 校检正确率:98.10%\n",
      "训练周期:13[2400/60000(32%)]\t, Loss:0.019197\t, 训练正确率:98.33%\t, 校检正确率:98.16%\n",
      "训练周期:13[3200/60000(43%)]\t, Loss:0.038258\t, 训练正确率:98.29%\t, 校检正确率:97.88%\n",
      "训练周期:13[4000/60000(53%)]\t, Loss:0.012044\t, 训练正确率:98.31%\t, 校检正确率:98.28%\n",
      "训练周期:13[4800/60000(64%)]\t, Loss:0.025201\t, 训练正确率:98.31%\t, 校检正确率:98.10%\n",
      "训练周期:13[5600/60000(75%)]\t, Loss:0.053635\t, 训练正确率:98.29%\t, 校检正确率:98.00%\n",
      "训练周期:13[6400/60000(85%)]\t, Loss:0.139123\t, 训练正确率:98.26%\t, 校检正确率:98.08%\n",
      "训练周期:13[7200/60000(96%)]\t, Loss:0.006765\t, 训练正确率:98.24%\t, 校检正确率:98.28%\n",
      "训练周期:14[0/60000(0%)]\t, Loss:0.116245\t, 训练正确率:95.31%\t, 校检正确率:98.14%\n",
      "训练周期:14[800/60000(11%)]\t, Loss:0.077520\t, 训练正确率:98.27%\t, 校检正确率:97.98%\n",
      "训练周期:14[1600/60000(21%)]\t, Loss:0.060128\t, 训练正确率:98.41%\t, 校检正确率:98.12%\n",
      "训练周期:14[2400/60000(32%)]\t, Loss:0.093840\t, 训练正确率:98.38%\t, 校检正确率:97.94%\n",
      "训练周期:14[3200/60000(43%)]\t, Loss:0.208549\t, 训练正确率:98.33%\t, 校检正确率:98.06%\n",
      "训练周期:14[4000/60000(53%)]\t, Loss:0.028097\t, 训练正确率:98.30%\t, 校检正确率:97.90%\n",
      "训练周期:14[4800/60000(64%)]\t, Loss:0.130773\t, 训练正确率:98.28%\t, 校检正确率:98.22%\n",
      "训练周期:14[5600/60000(75%)]\t, Loss:0.047530\t, 训练正确率:98.30%\t, 校检正确率:98.26%\n",
      "训练周期:14[6400/60000(85%)]\t, Loss:0.034820\t, 训练正确率:98.33%\t, 校检正确率:98.24%\n",
      "训练周期:14[7200/60000(96%)]\t, Loss:0.053601\t, 训练正确率:98.34%\t, 校检正确率:98.38%\n",
      "训练周期:15[0/60000(0%)]\t, Loss:0.110801\t, 训练正确率:96.88%\t, 校检正确率:98.28%\n",
      "训练周期:15[800/60000(11%)]\t, Loss:0.037670\t, 训练正确率:98.34%\t, 校检正确率:98.44%\n",
      "训练周期:15[1600/60000(21%)]\t, Loss:0.036871\t, 训练正确率:98.39%\t, 校检正确率:98.10%\n",
      "训练周期:15[2400/60000(32%)]\t, Loss:0.119851\t, 训练正确率:98.35%\t, 校检正确率:97.96%\n",
      "训练周期:15[3200/60000(43%)]\t, Loss:0.033245\t, 训练正确率:98.39%\t, 校检正确率:98.10%\n",
      "训练周期:15[4000/60000(53%)]\t, Loss:0.041516\t, 训练正确率:98.43%\t, 校检正确率:98.14%\n",
      "训练周期:15[4800/60000(64%)]\t, Loss:0.081596\t, 训练正确率:98.41%\t, 校检正确率:98.10%\n",
      "训练周期:15[5600/60000(75%)]\t, Loss:0.099840\t, 训练正确率:98.42%\t, 校检正确率:98.10%\n",
      "训练周期:15[6400/60000(85%)]\t, Loss:0.076457\t, 训练正确率:98.40%\t, 校检正确率:98.20%\n",
      "训练周期:15[7200/60000(96%)]\t, Loss:0.020907\t, 训练正确率:98.40%\t, 校检正确率:98.36%\n",
      "训练周期:16[0/60000(0%)]\t, Loss:0.015153\t, 训练正确率:100.00%\t, 校检正确率:98.36%\n",
      "训练周期:16[800/60000(11%)]\t, Loss:0.014149\t, 训练正确率:98.73%\t, 校检正确率:98.28%\n",
      "训练周期:16[1600/60000(21%)]\t, Loss:0.059488\t, 训练正确率:98.69%\t, 校检正确率:98.48%\n",
      "训练周期:16[2400/60000(32%)]\t, Loss:0.033899\t, 训练正确率:98.58%\t, 校检正确率:98.26%\n",
      "训练周期:16[3200/60000(43%)]\t, Loss:0.019235\t, 训练正确率:98.51%\t, 校检正确率:98.16%\n",
      "训练周期:16[4000/60000(53%)]\t, Loss:0.130931\t, 训练正确率:98.53%\t, 校检正确率:98.38%\n",
      "训练周期:16[4800/60000(64%)]\t, Loss:0.010615\t, 训练正确率:98.54%\t, 校检正确率:98.36%\n",
      "训练周期:16[5600/60000(75%)]\t, Loss:0.039662\t, 训练正确率:98.54%\t, 校检正确率:98.40%\n",
      "训练周期:16[6400/60000(85%)]\t, Loss:0.035515\t, 训练正确率:98.50%\t, 校检正确率:98.42%\n",
      "训练周期:16[7200/60000(96%)]\t, Loss:0.043753\t, 训练正确率:98.50%\t, 校检正确率:98.20%\n",
      "训练周期:17[0/60000(0%)]\t, Loss:0.006688\t, 训练正确率:100.00%\t, 校检正确率:98.16%\n",
      "训练周期:17[800/60000(11%)]\t, Loss:0.022540\t, 训练正确率:98.70%\t, 校检正确率:98.20%\n",
      "训练周期:17[1600/60000(21%)]\t, Loss:0.061467\t, 训练正确率:98.63%\t, 校检正确率:98.44%\n",
      "训练周期:17[2400/60000(32%)]\t, Loss:0.015407\t, 训练正确率:98.54%\t, 校检正确率:98.30%\n",
      "训练周期:17[3200/60000(43%)]\t, Loss:0.056023\t, 训练正确率:98.50%\t, 校检正确率:98.22%\n",
      "训练周期:17[4000/60000(53%)]\t, Loss:0.045945\t, 训练正确率:98.50%\t, 校检正确率:98.34%\n",
      "训练周期:17[4800/60000(64%)]\t, Loss:0.091990\t, 训练正确率:98.48%\t, 校检正确率:98.26%\n",
      "训练周期:17[5600/60000(75%)]\t, Loss:0.017476\t, 训练正确率:98.50%\t, 校检正确率:98.24%\n",
      "训练周期:17[6400/60000(85%)]\t, Loss:0.024050\t, 训练正确率:98.52%\t, 校检正确率:98.30%\n",
      "训练周期:17[7200/60000(96%)]\t, Loss:0.023767\t, 训练正确率:98.52%\t, 校检正确率:98.10%\n",
      "训练周期:18[0/60000(0%)]\t, Loss:0.007985\t, 训练正确率:100.00%\t, 校检正确率:98.34%\n",
      "训练周期:18[800/60000(11%)]\t, Loss:0.072445\t, 训练正确率:98.55%\t, 校检正确率:98.16%\n",
      "训练周期:18[1600/60000(21%)]\t, Loss:0.015614\t, 训练正确率:98.55%\t, 校检正确率:98.26%\n",
      "训练周期:18[2400/60000(32%)]\t, Loss:0.007324\t, 训练正确率:98.66%\t, 校检正确率:98.44%\n",
      "训练周期:18[3200/60000(43%)]\t, Loss:0.042310\t, 训练正确率:98.64%\t, 校检正确率:98.48%\n",
      "训练周期:18[4000/60000(53%)]\t, Loss:0.057339\t, 训练正确率:98.63%\t, 校检正确率:98.42%\n",
      "训练周期:18[4800/60000(64%)]\t, Loss:0.015186\t, 训练正确率:98.67%\t, 校检正确率:98.46%\n",
      "训练周期:18[5600/60000(75%)]\t, Loss:0.015168\t, 训练正确率:98.67%\t, 校检正确率:98.38%\n",
      "训练周期:18[6400/60000(85%)]\t, Loss:0.037151\t, 训练正确率:98.66%\t, 校检正确率:98.32%\n",
      "训练周期:18[7200/60000(96%)]\t, Loss:0.064030\t, 训练正确率:98.66%\t, 校检正确率:98.24%\n",
      "训练周期:19[0/60000(0%)]\t, Loss:0.003818\t, 训练正确率:100.00%\t, 校检正确率:98.00%\n",
      "训练周期:19[800/60000(11%)]\t, Loss:0.042477\t, 训练正确率:98.53%\t, 校检正确率:98.24%\n",
      "训练周期:19[1600/60000(21%)]\t, Loss:0.011650\t, 训练正确率:98.62%\t, 校检正确率:98.14%\n",
      "训练周期:19[2400/60000(32%)]\t, Loss:0.082804\t, 训练正确率:98.63%\t, 校检正确率:98.34%\n",
      "训练周期:19[3200/60000(43%)]\t, Loss:0.037686\t, 训练正确率:98.63%\t, 校检正确率:98.24%\n",
      "训练周期:19[4000/60000(53%)]\t, Loss:0.015409\t, 训练正确率:98.67%\t, 校检正确率:98.28%\n",
      "训练周期:19[4800/60000(64%)]\t, Loss:0.003372\t, 训练正确率:98.67%\t, 校检正确率:98.42%\n",
      "训练周期:19[5600/60000(75%)]\t, Loss:0.063834\t, 训练正确率:98.64%\t, 校检正确率:98.48%\n",
      "训练周期:19[6400/60000(85%)]\t, Loss:0.086739\t, 训练正确率:98.64%\t, 校检正确率:98.40%\n",
      "训练周期:19[7200/60000(96%)]\t, Loss:0.022292\t, 训练正确率:98.63%\t, 校检正确率:98.42%\n"
     ]
    }
   ],
   "source": [
    "net = ConvNet().to(device)\n",
    "# net = ConvNet()\n",
    "criterion = nn.CrossEntropyLoss()\n",
    "optimizer = optim.SGD(net.parameters(), lr=learning_rate, momentum=0.9)\n",
    "\n",
    "record = []\n",
    "weights = []\n",
    "\n",
    "for epoch in range(num_epochs):\n",
    "    train_rights = []\n",
    "    \n",
    "    for batch_idx, (data, target) in enumerate(train_loader):\n",
    "        data, target = Variable(data).to(device), Variable(target).to(device)\n",
    "        # data, target = Variable(data), Variable(target)\n",
    "        net.train()\n",
    "        \n",
    "        output = net(data)\n",
    "        loss = criterion(output, target)\n",
    "        optimizer.zero_grad()\n",
    "        loss.backward()\n",
    "        optimizer.step()\n",
    "        right = rightness(output, target)\n",
    "        train_rights.append(right)\n",
    "        \n",
    "        if batch_idx % 100 == 0:\n",
    "            net.eval()\n",
    "            val_rights = []\n",
    "            \n",
    "            for (data, target) in validation_loader:\n",
    "                data, traget = Variable(data).to(device), Variable(target).to(device)\n",
    "                # data, traget = Variable(data), Variable(target)\n",
    "                output = net(data)\n",
    "                right = rightness(output, target)\n",
    "                val_rights.append(right)\n",
    "            \n",
    "            train_r = (sum([tup[0] for tup in train_rights]), sum([tup[1] for tup in train_rights]))\n",
    "            val_r = (sum([tup[0] for tup in val_rights]), sum([tup[1] for tup in val_rights]))\n",
    "            print('训练周期:{}[{}/{}({:.0f}%)]\\t, Loss:{:.6f}\\t, 训练正确率:{:.2f}%\\t, 校检正确率:{:.2f}%'.format(\n",
    "                epoch, batch_idx * len(data), len(train_loader.dataset),\n",
    "                100. * batch_idx / len(train_loader), loss.item(),\n",
    "                100. * train_r[0] / train_r[1],\n",
    "                100. * val_r[0] / val_r[1]))\n",
    "            \n",
    "            record.append(((100 - 100. * train_r[0] / train_r[1]).cpu(),\n",
    "                           (100 - 100. * val_r[0] / val_r[1]).cpu()))\n",
    "            weights.append([net.conv1.weight.data.clone(), net.conv1.bias.data.clone(),\n",
    "                           net.conv2.weight.data.clone(), net.conv2.bias.data.clone()])\n",
    "#         print('\\r训练进度{:.2f}%'.format((epoch+1) / (num_epochs+1) * 100), end='')"
   ]
  },
  {
   "cell_type": "code",
   "execution_count": 8,
   "id": "9fe7cd02",
   "metadata": {},
   "outputs": [
    {
     "data": {
      "text/plain": [
       "tensor(0.9922, device='cuda:0')"
      ]
     },
     "execution_count": 8,
     "metadata": {},
     "output_type": "execute_result"
    }
   ],
   "source": [
    "net.eval()\n",
    "vals = []\n",
    "\n",
    "for data, target in test_loader:\n",
    "    with torch.no_grad():\n",
    "        data, target = Variable(data).to(device), Variable(target).to(device)\n",
    "    output = net(data)\n",
    "    val = rightness(output, target)\n",
    "    vals.append(val)\n",
    "    \n",
    "right = (sum([tup[0] for tup in vals]), sum([tup[1] for tup in vals]))\n",
    "right_rate = 1.0 * right[0] / right[1]\n",
    "right_rate"
   ]
  },
  {
   "cell_type": "code",
   "execution_count": 9,
   "id": "b33e51fb",
   "metadata": {},
   "outputs": [
    {
     "data": {
      "text/plain": [
       "Text(0, 0.5, 'Error rate')"
      ]
     },
     "execution_count": 9,
     "metadata": {},
     "output_type": "execute_result"
    },
    {
     "data": {
      "image/png": "[encoded data removed]",
      "text/plain": [
       "<Figure size 720x504 with 1 Axes>"
      ]
     },
     "metadata": {
      "needs_background": "light"
     },
     "output_type": "display_data"
    }
   ],
   "source": [
    "plt.figure(figsize=(10, 7))\n",
    "plt.plot(record)\n",
    "plt.xlabel('Steps')\n",
    "plt.ylabel('Error rate')\n",
    "# plt.savefig('../../期末作业/figures/手写数字体_训练损失曲线.png', dpi=900)"
   ]
  },
  {
   "cell_type": "code",
   "execution_count": 14,
   "id": "19331915",
   "metadata": {},
   "outputs": [
    {
     "data": {
      "image/png": "[encoded data removed]",
      "text/plain": [
       "<Figure size 720x504 with 4 Axes>"
      ]
     },
     "metadata": {
      "needs_background": "light"
     },
     "output_type": "display_data"
    }
   ],
   "source": [
    "plt.figure(figsize=(10, 7))\n",
    "for i in range(4):\n",
    "    plt.subplot(1, 4, i+1)\n",
    "    plt.imshow(net.conv1.weight.data.cpu().numpy()[i,0,...])\n",
    "# plt.savefig('../../期末作业/figures/第一层卷积核的可视化.png', dpi=900)"
   ]
  },
  {
   "cell_type": "code",
   "execution_count": 28,
   "id": "09f5e337",
   "metadata": {},
   "outputs": [
    {
     "data": {
      "image/png": "[encoded data removed]",
      "text/plain": [
       "<Figure size 720x504 with 4 Axes>"
      ]
     },
     "metadata": {
      "needs_background": "light"
     },
     "output_type": "display_data"
    }
   ],
   "source": [
    "idx = 18\n",
    "input_x = test_dataset[idx][0].unsqueeze(0)\n",
    "feature_maps = net.retrieve_features(Variable(input_x).to(device))\n",
    "\n",
    "plt.figure(figsize=(10, 7))\n",
    "\n",
    "for i in range(4):\n",
    "    plt.subplot(1, 4, i+1)\n",
    "    plt.imshow(feature_maps[0][0, i,...].cpu().data.numpy())\n",
    "# plt.savefig('../../期末作业/figures/第一层的4个特征图.png', dpi=900)"
   ]
  },
  {
   "cell_type": "code",
   "execution_count": 32,
   "id": "a1df8539",
   "metadata": {},
   "outputs": [
    {
     "data": {
      "image/png": "[encoded data removed]",
      "text/plain": [
       "<Figure size 1080x720 with 32 Axes>"
      ]
     },
     "metadata": {
      "needs_background": "light"
     },
     "output_type": "display_data"
    }
   ],
   "source": [
    "plt.figure(figsize=(15, 10))\n",
    "for i in range(4):\n",
    "    for j in range(8):\n",
    "        plt.subplot(4, 8, i * 8 + j + 1)\n",
    "        plt.imshow(net.conv2.weight.data.cpu().numpy()[j,i,...])\n",
    "# plt.savefig('../../期末作业/figures/第二层卷积核的可视化.png', dpi=900)"
   ]
  },
  {
   "cell_type": "code",
   "execution_count": 42,
   "id": "d7ec56ab",
   "metadata": {},
   "outputs": [
    {
     "data": {
      "image/png": "[encoded data removed]",
      "text/plain": [
       "<Figure size 720x504 with 8 Axes>"
      ]
     },
     "metadata": {
      "needs_background": "light"
     },
     "output_type": "display_data"
    }
   ],
   "source": [
    "plt.figure(figsize=(10, 7))\n",
    "for i in range(8):\n",
    "    plt.subplot(2, 4, i+1)\n",
    "    plt.imshow(feature_maps[1][0, i,...].cpu().data.numpy())\n",
    "# plt.savefig('../../期末作业/figures/第二层特征图的可视化.png', dpi=900)"
   ]
  },
  {
   "cell_type": "code",
   "execution_count": 47,
   "id": "67aaa105",
   "metadata": {},
   "outputs": [
    {
     "data": {
      "image/png": "[encoded data removed]",
      "text/plain": [
       "<Figure size 432x288 with 2 Axes>"
      ]
     },
     "metadata": {
      "needs_background": "light"
     },
     "output_type": "display_data"
    }
   ],
   "source": [
    "a = test_dataset[idx][0][0]\n",
    "b = torch.zeros(a.size())\n",
    "w = 3\n",
    "\n",
    "for i in range(a.size()[0]):\n",
    "    for j in range(0, a.size()[1] - w):\n",
    "        b[i, j] = a[i, j + w]\n",
    "\n",
    "muteimg = b.numpy()\n",
    "plt.subplot(1, 2, 1)\n",
    "plt.imshow(a)\n",
    "plt.title('数字6平移前')\n",
    "\n",
    "plt.subplot(1, 2, 2)\n",
    "plt.imshow(muteimg)\n",
    "plt.title('数字6平移后')\n",
    "\n",
    "plt.savefig('../../期末作业/figures/平移前后对照图.png', dpi=900)"
   ]
  },
  {
   "cell_type": "code",
   "execution_count": 50,
   "id": "546f7898",
   "metadata": {},
   "outputs": [
    {
     "data": {
      "image/png": "[encoded data removed]",
      "text/plain": [
       "<Figure size 720x504 with 4 Axes>"
      ]
     },
     "metadata": {
      "needs_background": "light"
     },
     "output_type": "display_data"
    }
   ],
   "source": [
    "feature_maps = net.retrieve_features(Variable(b.unsqueeze(0).unsqueeze(0)).to(device))\n",
    "\n",
    "plt.figure(figsize=(10, 7))\n",
    "\n",
    "for i in range(4):\n",
    "    plt.subplot(1, 4, i+1)\n",
    "    plt.imshow(feature_maps[0][0, i,...].cpu().data.numpy())\n",
    "plt.savefig('../../期末作业/figures/平移数字输入后第一层特征图.png', dpi=900)"
   ]
  },
  {
   "cell_type": "code",
   "execution_count": 52,
   "id": "323449e7",
   "metadata": {},
   "outputs": [
    {
     "name": "stdout",
     "output_type": "stream",
     "text": [
      "tensor([6], device='cuda:0')\n"
     ]
    },
    {
     "data": {
      "image/png": "[encoded data removed]",
      "text/plain": [
       "<Figure size 720x504 with 8 Axes>"
      ]
     },
     "metadata": {
      "needs_background": "light"
     },
     "output_type": "display_data"
    }
   ],
   "source": [
    "prediction = net(Variable(b.unsqueeze(0).unsqueeze(0)).to(device))\n",
    "pred = torch.max(prediction.data, 1)[1]\n",
    "print(pred)\n",
    "\n",
    "plt.figure(figsize=(10, 7))\n",
    "for i in range(8):\n",
    "    plt.subplot(2, 4, i+1)\n",
    "    plt.imshow(feature_maps[1][0, i,...].cpu().data.numpy())\n",
    "plt.savefig('../../期末作业/figures/平移数字输入后第二层的特征图.png', dpi=900)"
   ]
  },
  {
   "cell_type": "code",
   "execution_count": 53,
   "id": "cbc941f2",
   "metadata": {},
   "outputs": [
    {
     "data": {
      "text/plain": [
       "tensor(0.9935, device='cuda:0')"
      ]
     },
     "execution_count": 53,
     "metadata": {},
     "output_type": "execute_result"
    }
   ],
   "source": [
    "right_rate"
   ]
  },
  {
   "cell_type": "code",
   "execution_count": null,
   "id": "883b1ef2",
   "metadata": {},
   "outputs": [],
   "source": []
  }
 ],
 "metadata": {
  "kernelspec": {
   "display_name": "Python 3 (ipykernel)",
   "language": "python",
   "name": "python3"
  },
  "language_info": {
   "codemirror_mode": {
    "name": "ipython",
    "version": 3
   },
   "file_extension": ".py",
   "mimetype": "text/x-python",
   "name": "python",
   "nbconvert_exporter": "python",
   "pygments_lexer": "ipython3",
   "version": "3.9.7"
  }
 },
 "nbformat": 4,
 "nbformat_minor": 5
}
