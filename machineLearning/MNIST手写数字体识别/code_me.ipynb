{
 "cells": [
  {
   "cell_type": "code",
   "execution_count": 34,
   "id": "a1f267d2",
   "metadata": {},
   "outputs": [],
   "source": [
    "import torch\n",
    "import torch.nn as nn\n",
    "import torch.optim as optim\n",
    "from torch.autograd import Variable\n",
    "import torch.nn.functional as F\n",
    "\n",
    "import torchvision.datasets as dsets\n",
    "import torchvision.transforms as transforms\n",
    "\n",
    "import matplotlib.pyplot as plt\n",
    "import numpy as np\n",
    "\n",
    "%matplotlib inline"
   ]
  },
  {
   "cell_type": "code",
   "execution_count": 35,
   "id": "ddb7555d",
   "metadata": {},
   "outputs": [],
   "source": [
    "image_size = 28\n",
    "num_classes = 10\n",
    "num_epochs = 20\n",
    "batch_size = 64\n",
    "learning_rate = 0.001\n",
    "device = torch.device('cuda:0' if torch.cuda.is_available() else 'cpu')\n",
    "\n",
    "train_dataset = dsets.MNIST(root='./data',\n",
    "                           train=True,\n",
    "                           transform=transforms.ToTensor(),\n",
    "                           download=True)\n",
    "\n",
    "test_dataset = dsets.MNIST(root='./data',\n",
    "                          train=False,\n",
    "                          transform=transforms.ToTensor())\n",
    "\n",
    "train_loader = torch.utils.data.DataLoader(dataset=train_dataset,\n",
    "                                          batch_size=batch_size,\n",
    "                                          shuffle=True)\n",
    "\n",
    "indices = range(len(test_dataset))\n",
    "indices_val = indices[:5000]\n",
    "indices_test = indices[5000:]\n",
    "\n",
    "sampler_val = torch.utils.data.sampler.SubsetRandomSampler(indices_val)\n",
    "sampler_test = torch.utils.data.sampler.SubsetRandomSampler(indices_test)\n",
    "\n",
    "validation_loader = torch.utils.data.DataLoader(dataset=test_dataset,\n",
    "                                               batch_size=batch_size,\n",
    "                                               shuffle=False,\n",
    "                                               sampler=sampler_val)\n",
    "test_loader = torch.utils.data.DataLoader(dataset=test_dataset,\n",
    "                                         batch_size=batch_size,\n",
    "                                         shuffle=False,\n",
    "                                         sampler=sampler_test)"
   ]
  },
  {
   "cell_type": "code",
   "execution_count": 3,
   "id": "b6655c62",
   "metadata": {},
   "outputs": [],
   "source": [
    "# idx = 0\n",
    "# muteimg = train_dataset[idx][0].numpy()\n",
    "# plt.imshow(muteimg[0,...])\n",
    "# print('标签是: ',train_dataset[idx][1])"
   ]
  },
  {
   "cell_type": "code",
   "execution_count": 41,
   "id": "2ea43d5b",
   "metadata": {},
   "outputs": [
    {
     "name": "stdout",
     "output_type": "stream",
     "text": [
      "3,7,7,3,9,2,3,9,"
     ]
    },
    {
     "data": {
      "image/png": "[encoded data removed]",
      "text/plain": [
       "<Figure size 1080x576 with 8 Axes>"
      ]
     },
     "metadata": {
      "needs_background": "light"
     },
     "output_type": "display_data"
    }
   ],
   "source": [
    "import random\n",
    "random.seed(15558)\n",
    "plt.figure(figsize=(15, 8))\n",
    "for i in range(8):\n",
    "    idx = random.randrange(len(train_dataset))\n",
    "    plt.subplot(2, 4, i+1)\n",
    "    muteimg = train_dataset[idx][0].numpy()\n",
    "#     print('标签是:',train_dataset[idx][1])\n",
    "    plt.title(\"label: {}\".format(train_dataset[idx][1]))\n",
    "    print('{},'.format(train_dataset[idx][1]), end='')\n",
    "    plt.imshow(muteimg[0,...], cmap='gray')\n",
    "plt.savefig('../../期末作业/figures/手写数字展示_黑白.png',dpi=900)"
   ]
  },
  {
   "cell_type": "code",
   "execution_count": 39,
   "id": "7c2771ef",
   "metadata": {
    "scrolled": true
   },
   "outputs": [
    {
     "name": "stdout",
     "output_type": "stream",
     "text": [
      "4,0,5,"
     ]
    },
    {
     "data": {
      "image/png": "[encoded data removed]",
      "text/plain": [
       "<Figure size 810x288 with 3 Axes>"
      ]
     },
     "metadata": {
      "needs_background": "light"
     },
     "output_type": "display_data"
    }
   ],
   "source": [
    "import random\n",
    "random.seed(1588)\n",
    "plt.figure(figsize=(11.25, 4))\n",
    "for i in range(3):\n",
    "    plt.subplot(1, 3, i+1)\n",
    "    idx = random.randrange(len(train_dataset))\n",
    "    muteimg = train_dataset[idx][0].numpy()\n",
    "    plt.title(\"label: {}\".format(train_dataset[idx][1]))\n",
    "    print('{},'.format(train_dataset[idx][1]), end='')\n",
    "    plt.imshow(muteimg[0,...], cmap='gray')\n",
    "    plt.savefig('../../期末作业/figures/标签.png',dpi=900)"
   ]
  },
  {
   "cell_type": "code",
   "execution_count": 38,
   "id": "e1309f35",
   "metadata": {},
   "outputs": [],
   "source": [
    "# idx = 55\n",
    "# muteimg = train_dataset[idx][0].numpy()\n",
    "# plt.imshow(muteimg[0,...], cmap='gray')\n",
    "# print('标签是: ',train_dataset[idx][1])\n",
    "# plt.savefig('../../期末作业/figures/任务示意图.png',dpi=900)"
   ]
  },
  {
   "cell_type": "code",
   "execution_count": 6,
   "id": "0a7c8afd",
   "metadata": {},
   "outputs": [],
   "source": [
    "depth = [4, 8]\n",
    "class ConvNet(nn.Module):\n",
    "    def __init__(self):\n",
    "        super(ConvNet, self).__init__()\n",
    "        \n",
    "        self.conv1 = nn.Conv2d(1, 4, 5, padding=2)\n",
    "        self.pool = nn.MaxPool2d(2, 2)\n",
    "        \n",
    "        self.conv2 = nn.Conv2d(depth[0], depth[1], 5, padding=2)\n",
    "        \n",
    "        self.fc1 = nn.Linear(image_size // 4 * image_size // 4 * depth[1], 512)\n",
    "        self.fc2 = nn.Linear(512, num_classes)\n",
    "        \n",
    "    def forward(self, x):\n",
    "        x = self.conv1(x)\n",
    "        x = F.relu(x)\n",
    "        x = self.pool(x)\n",
    "        \n",
    "        x = self.conv2(x)\n",
    "        x = F.relu(x)\n",
    "        x = self.pool(x)\n",
    "        x = x.view(-1, image_size // 4 * image_size // 4 * depth[1])\n",
    "        x = F.relu(self.fc1(x))\n",
    "        \n",
    "        x = F.dropout(x, training=self.training)\n",
    "        x = self.fc2(x)\n",
    "        \n",
    "        x = F.log_softmax(x, dim=1)\n",
    "        return x\n",
    "    \n",
    "    def retrieve_features(self, x):\n",
    "        feature_map1 = F.relu(self,conv1(x))\n",
    "        x = self.pool(feature_map1)\n",
    "        feature_map2 = F.relu(self.conv2(x))\n",
    "        \n",
    "        return (feature_map1, feature_map2)"
   ]
  },
  {
   "cell_type": "code",
   "execution_count": 7,
   "id": "7538fe63",
   "metadata": {
    "scrolled": true
   },
   "outputs": [
    {
     "ename": "NameError",
     "evalue": "name 'rightness' is not defined",
     "output_type": "error",
     "traceback": [
      "\u001b[1;31m---------------------------------------------------------------------------\u001b[0m",
      "\u001b[1;31mNameError\u001b[0m                                 Traceback (most recent call last)",
      "\u001b[1;32m~\\AppData\\Local\\Temp/ipykernel_20880/3293885098.py\u001b[0m in \u001b[0;36m<module>\u001b[1;34m\u001b[0m\n\u001b[0;32m     18\u001b[0m         \u001b[0mloss\u001b[0m\u001b[1;33m.\u001b[0m\u001b[0mbackward\u001b[0m\u001b[1;33m(\u001b[0m\u001b[1;33m)\u001b[0m\u001b[1;33m\u001b[0m\u001b[1;33m\u001b[0m\u001b[0m\n\u001b[0;32m     19\u001b[0m         \u001b[0moptimizer\u001b[0m\u001b[1;33m.\u001b[0m\u001b[0mstep\u001b[0m\u001b[1;33m(\u001b[0m\u001b[1;33m)\u001b[0m\u001b[1;33m\u001b[0m\u001b[1;33m\u001b[0m\u001b[0m\n\u001b[1;32m---> 20\u001b[1;33m         \u001b[0mright\u001b[0m \u001b[1;33m=\u001b[0m \u001b[0mrightness\u001b[0m\u001b[1;33m(\u001b[0m\u001b[0moutput\u001b[0m\u001b[1;33m,\u001b[0m \u001b[0mtarget\u001b[0m\u001b[1;33m)\u001b[0m\u001b[1;33m\u001b[0m\u001b[1;33m\u001b[0m\u001b[0m\n\u001b[0m\u001b[0;32m     21\u001b[0m         \u001b[0mtrain_rights\u001b[0m\u001b[1;33m.\u001b[0m\u001b[0mappend\u001b[0m\u001b[1;33m(\u001b[0m\u001b[0mright\u001b[0m\u001b[1;33m)\u001b[0m\u001b[1;33m\u001b[0m\u001b[1;33m\u001b[0m\u001b[0m\n\u001b[0;32m     22\u001b[0m \u001b[1;33m\u001b[0m\u001b[0m\n",
      "\u001b[1;31mNameError\u001b[0m: name 'rightness' is not defined"
     ]
    }
   ],
   "source": [
    "net = ConvNet()\n",
    "\n",
    "criterion = nn.CrossEntropyLoss()\n",
    "optimizer = optim.SGD(net.parameters(), lr=learning_rate, momentum=0.9)\n",
    "\n",
    "record = []   # 记录准确率等数值\n",
    "weights = []  # 每若干步就利率一次卷积核\n",
    "\n",
    "for epoch in range(num_epochs):\n",
    "    train_rights = []\n",
    "    for batch_idx, (data, target) in enumerate(train_loader):\n",
    "        data, target = Variable(data), Variable(target)\n",
    "        net.train()\n",
    "        \n",
    "        output = net(data)\n",
    "        loss = criterion(output, target)\n",
    "        optimizer.zero_grad()\n",
    "        loss.backward()\n",
    "        optimizer.step()\n",
    "        right = rightness(output, target)\n",
    "        train_rights.append(right)\n",
    "        \n",
    "        if batch_idx % 100 == 0:\n",
    "            net.eval()\n",
    "            val_rights = []\n",
    "            for (data, target) in validation_loader:\n",
    "                data, target = Variable(data), Variable(target)\n",
    "                output = nat(data)\n",
    "                right = rightness(output, target)\n",
    "                val_rights.append(right)\n",
    "            train_r = (sum([tup[0] for tup in train_rights]), sum([tup[1] for tup in train_rights]))\n",
    "            val_r = (sum([tup[0] for tup in val_rights]), sum([tup[1] for tup in val_rights]))\n",
    "            \n",
    "            print('训练周期:{}[{}/{}({:.0f}%)]\\t, Loss:{:.6f}\\t, 训练正确率:{:.2f}%\\t, 校验正确率:{:.2f}%'.format(\n",
    "            epoch, batch_idx * len(data), len(train_loader.dataset),\n",
    "            100. * batch_idx / len(train_loader), loss.data[0],\n",
    "            100. * train_r[0] / train_r[1],\n",
    "            100. * val_r[0] / val_r[1]))\n",
    "            \n",
    "            record.append((100 -100. * train_r[0] / train_r[1], 100 -100. *val_r[0] / val_r[1]))\n",
    "            \n",
    "            weights.append([net.conv1.weight.data.clone(), net.conv1.bias.data.clone(),\n",
    "                           net.conv2.weight.data.clone(), net.conv2.bias.data.clone()])"
   ]
  },
  {
   "cell_type": "code",
   "execution_count": 41,
   "id": "47269827",
   "metadata": {},
   "outputs": [
    {
     "data": {
      "text/plain": [
       "tensor([0.0000, 0.0000, 0.0000, 0.0000, 0.0000, 0.0000, 0.0000, 0.0000, 0.0000,\n",
       "        0.0549, 0.0039, 0.6039, 0.9922, 0.3529, 0.0000, 0.0000, 0.0000, 0.0000,\n",
       "        0.0000, 0.0000, 0.0000, 0.0000, 0.0000, 0.0000, 0.0000, 0.0000, 0.0000,\n",
       "        0.0000])"
      ]
     },
     "execution_count": 41,
     "metadata": {},
     "output_type": "execute_result"
    }
   ],
   "source": [
    "train_dataset[0][0][0][10]"
   ]
  },
  {
   "cell_type": "code",
   "execution_count": null,
   "id": "ed799e64",
   "metadata": {},
   "outputs": [],
   "source": []
  }
 ],
 "metadata": {
  "kernelspec": {
   "display_name": "Python 3 (ipykernel)",
   "language": "python",
   "name": "python3"
  },
  "language_info": {
   "codemirror_mode": {
    "name": "ipython",
    "version": 3
   },
   "file_extension": ".py",
   "mimetype": "text/x-python",
   "name": "python",
   "nbconvert_exporter": "python",
   "pygments_lexer": "ipython3",
   "version": "3.9.7"
  }
 },
 "nbformat": 4,
 "nbformat_minor": 5
}
