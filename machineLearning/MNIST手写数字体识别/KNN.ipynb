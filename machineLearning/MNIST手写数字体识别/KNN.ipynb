{
 "cells": [
  {
   "cell_type": "code",
   "execution_count": 1,
   "id": "d2463334",
   "metadata": {},
   "outputs": [],
   "source": [
    "import torch\n",
    "import torch.nn as nn\n",
    "import torch.optim as optim\n",
    "\n",
    "import torchvision.datasets as dsets\n",
    "import torchvision.transforms as transforms\n",
    "\n",
    "import numpy as np\n",
    "import matplotlib.pyplot as plt"
   ]
  },
  {
   "cell_type": "code",
   "execution_count": 2,
   "id": "a1c105f4",
   "metadata": {},
   "outputs": [],
   "source": [
    "pipeline = transforms.Compose([\n",
    "    transforms.ToTensor(),\n",
    "    transforms.Normalize((0.1307,),(0.3081,))\n",
    "])"
   ]
  },
  {
   "cell_type": "code",
   "execution_count": 3,
   "id": "d475e492",
   "metadata": {},
   "outputs": [],
   "source": [
    "# MNIST digits dataset\n",
    "train_dataset = dsets.MNIST(root='./data',\n",
    "                        train=True,\n",
    "                        download=True,\n",
    "                        transform=pipeline) \n",
    "test_dataset = dsets.MNIST(root='./data',\n",
    "                       train=False,\n",
    "                       download=True,\n",
    "                       transform=pipeline)\n",
    "\n",
    "# pick all samples to train, size = 60,000\n",
    "train_data = torch.unsqueeze(train_dataset.data, dim=1).type(\n",
    "    torch.FloatTensor)[:]/255\n",
    "train_target = train_dataset.targets\n",
    "\n",
    "# pick all samples to test, size = 10,000\n",
    "test_data = torch.unsqueeze(test_dataset.data, dim=1).type(\n",
    "    torch.FloatTensor)[:]/255\n",
    "test_target = test_dataset.targets"
   ]
  },
  {
   "cell_type": "code",
   "execution_count": 4,
   "id": "d4b75adb",
   "metadata": {},
   "outputs": [],
   "source": [
    "# reshape train and test dim\n",
    "train_data = train_data.view(-1, 28*28)\n",
    "test_data = test_data.view(-1, 28*28)"
   ]
  },
  {
   "cell_type": "code",
   "execution_count": 33,
   "id": "cd36133c",
   "metadata": {},
   "outputs": [],
   "source": [
    "from sklearn.neighbors import KNeighborsClassifier\n",
    "from sklearn.model_selection import train_test_split\n",
    "from sklearn.metrics import classification_report"
   ]
  },
  {
   "cell_type": "code",
   "execution_count": 6,
   "id": "523c8ce1",
   "metadata": {},
   "outputs": [],
   "source": [
    "test_data, val_data, test_target, val_target = train_test_split(test_data, test_target, test_size=0.5, random_state=84)"
   ]
  },
  {
   "cell_type": "code",
   "execution_count": 7,
   "id": "4d3c64bf",
   "metadata": {
    "scrolled": true
   },
   "outputs": [
    {
     "name": "stdout",
     "output_type": "stream",
     "text": [
      "k=1, val_accuracy=96.680%,\t test_accuracy=97.140%\t error number:143\n",
      "k=2, val_accuracy=96.240%,\t test_accuracy=96.300%\t error number:185\n",
      "k=3, val_accuracy=96.860%,\t test_accuracy=97.240%\t error number:138\n",
      "k=4, val_accuracy=96.720%,\t test_accuracy=96.920%\t error number:154\n",
      "k=5, val_accuracy=96.680%,\t test_accuracy=97.080%\t error number:146\n",
      "k=6, val_accuracy=96.640%,\t test_accuracy=96.900%\t error number:155\n",
      "k=7, val_accuracy=96.780%,\t test_accuracy=97.100%\t error number:145\n",
      "k=8, val_accuracy=96.580%,\t test_accuracy=96.820%\t error number:159\n",
      "k=9, val_accuracy=96.420%,\t test_accuracy=96.760%\t error number:162\n",
      "k=3 achieved highest val_accuracy of 96.86% on validation data,k=1 achieved highest val_accuracy of 97.14% on validationdata\n"
     ]
    }
   ],
   "source": [
    "val_accuracies = []\n",
    "test_accuracies = []\n",
    "error_num = []\n",
    "kVals = range(1, 10)\n",
    "for k in range(1, 10):\n",
    "    model = KNeighborsClassifier(n_neighbors=k)\n",
    "    model.fit(train_data, train_target)\n",
    "    \n",
    "    val_score = model.score(val_data, val_target)\n",
    "    test_score = model.score(test_data, test_target)\n",
    "    res = model.predict(test_data)\n",
    "    error = 0\n",
    "    for i in range(len(test_target)):\n",
    "        if res[i] != test_target[i]:\n",
    "            error += 1\n",
    "    error_num.append(error)\n",
    "    print('k=%d, val_accuracy=%.3f%%,\\t test_accuracy=%.3f%%\\t error number:%d' %(k, val_score * 100, test_score * 100, error))\n",
    "    val_accuracies.append(val_score)\n",
    "    test_accuracies.append(test_score)\n",
    "    \n",
    "    \n",
    "    # 预测验证集\n",
    "idx_val = np.argmax(val_accuracies)\n",
    "idx_test = np.argmax(test_accuracies)\n",
    "print(\"k={} achieved highest val_accuracy of {:.2f}% on validation data,\" \\\n",
    "      \"k={} achieved highest val_accuracy of {:.2f}% on validation\" \\\n",
    "      \"data\".format(kVals[idx_val], val_accuracies[idx_val] * 100, kVals[idx_test], test_accuracies[idx_test] * 100))"
   ]
  },
  {
   "cell_type": "code",
   "execution_count": 9,
   "id": "5bbdb7c9",
   "metadata": {},
   "outputs": [],
   "source": [
    "import pandas as pd\n",
    "data = {'k': kVals, 'val_accuracy': val_accuracies, 'test_accuracy': test_accuracies, 'error number':error_num}\n",
    "df = pd.DataFrame(data)\n",
    "df.to_csv('../../期末作业/手写数字体识别临时文件/不同k对应的accuracy.csv', index=False)"
   ]
  },
  {
   "cell_type": "code",
   "execution_count": 24,
   "id": "26840305",
   "metadata": {},
   "outputs": [
    {
     "data": {
      "text/plain": [
       "[<matplotlib.lines.Line2D at 0x1cb01279580>,\n",
       " <matplotlib.lines.Line2D at 0x1cb01279700>]"
      ]
     },
     "execution_count": 24,
     "metadata": {},
     "output_type": "execute_result"
    },
    {
     "data": {
      "image/png": "[encoded data removed]",
      "text/plain": [
       "<Figure size 432x288 with 1 Axes>"
      ]
     },
     "metadata": {
      "needs_background": "light"
     },
     "output_type": "display_data"
    }
   ],
   "source": [
    "# from scipy.interpolate import interp1d\n",
    "# f = interp1d(kVals, error_num, kind='cubic')\n",
    "# xnew = np.linspace(1, 9, num=50, endpoint=True)\n",
    "# plt.plot(kVals, error_num,'o', xnew, f(xnew))"
   ]
  },
  {
   "cell_type": "code",
   "execution_count": 31,
   "id": "df64d38f",
   "metadata": {},
   "outputs": [
    {
     "data": {
      "image/png": "[encoded data removed]",
      "text/plain": [
       "<Figure size 432x288 with 1 Axes>"
      ]
     },
     "metadata": {
      "needs_background": "light"
     },
     "output_type": "display_data"
    }
   ],
   "source": [
    "# plt.plot(kVals, error_num, kVals, error_num, 'o')\n",
    "# # plt.savefig('../../期末作业/figures/错误数字图.png', dpi=900)"
   ]
  },
  {
   "cell_type": "code",
   "execution_count": 14,
   "id": "568d0c27",
   "metadata": {
    "scrolled": true
   },
   "outputs": [
    {
     "data": {
      "text/plain": [
       "[<matplotlib.lines.Line2D at 0x1cb026fe160>,\n",
       " <matplotlib.lines.Line2D at 0x1cb026fe0a0>]"
      ]
     },
     "execution_count": 14,
     "metadata": {},
     "output_type": "execute_result"
    },
    {
     "data": {
      "image/png": "[encoded data removed]",
      "text/plain": [
       "<Figure size 432x288 with 1 Axes>"
      ]
     },
     "metadata": {
      "needs_background": "light"
     },
     "output_type": "display_data"
    }
   ],
   "source": [
    "# plt.plot(kVals, test_accuracies, val_accuracies)"
   ]
  },
  {
   "cell_type": "code",
   "execution_count": null,
   "id": "d287ebf3",
   "metadata": {},
   "outputs": [],
   "source": []
  },
  {
   "cell_type": "code",
   "execution_count": null,
   "id": "7cd6cb24",
   "metadata": {},
   "outputs": [],
   "source": []
  },
  {
   "cell_type": "code",
   "execution_count": 35,
   "id": "99e782bd",
   "metadata": {},
   "outputs": [
    {
     "data": {
      "text/plain": [
       "KNeighborsClassifier(n_neighbors=3)"
      ]
     },
     "execution_count": 35,
     "metadata": {},
     "output_type": "execute_result"
    }
   ],
   "source": [
    "model = KNeighborsClassifier(n_neighbors=kVals[idx_val])\n",
    "model.fit(train_data, train_target)"
   ]
  },
  {
   "cell_type": "code",
   "execution_count": 36,
   "id": "16c23ad0",
   "metadata": {},
   "outputs": [
    {
     "name": "stdout",
     "output_type": "stream",
     "text": [
      "              precision    recall  f1-score   support\n",
      "\n",
      "           0       0.97      0.99      0.98       472\n",
      "           1       0.96      1.00      0.98       555\n",
      "           2       0.98      0.96      0.97       500\n",
      "           3       0.97      0.98      0.97       528\n",
      "           4       0.97      0.98      0.97       496\n",
      "           5       0.97      0.96      0.96       459\n",
      "           6       0.99      0.99      0.99       462\n",
      "           7       0.97      0.97      0.97       517\n",
      "           8       1.00      0.94      0.97       496\n",
      "           9       0.97      0.97      0.97       515\n",
      "\n",
      "    accuracy                           0.97      5000\n",
      "   macro avg       0.97      0.97      0.97      5000\n",
      "weighted avg       0.97      0.97      0.97      5000\n",
      "\n"
     ]
    }
   ],
   "source": [
    "predictions = model.predict(test_data)\n",
    "print(classification_report(test_target, predictions))"
   ]
  },
  {
   "cell_type": "code",
   "execution_count": null,
   "id": "da3a3d87",
   "metadata": {},
   "outputs": [],
   "source": []
  }
 ],
 "metadata": {
  "kernelspec": {
   "display_name": "Python 3 (ipykernel)",
   "language": "python",
   "name": "python3"
  },
  "language_info": {
   "codemirror_mode": {
    "name": "ipython",
    "version": 3
   },
   "file_extension": ".py",
   "mimetype": "text/x-python",
   "name": "python",
   "nbconvert_exporter": "python",
   "pygments_lexer": "ipython3",
   "version": "3.9.7"
  }
 },
 "nbformat": 4,
 "nbformat_minor": 5
}
