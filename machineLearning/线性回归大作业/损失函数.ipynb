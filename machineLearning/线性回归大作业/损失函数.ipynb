{
 "cells": [
  {
   "cell_type": "code",
   "execution_count": 1,
   "id": "11f01b98",
   "metadata": {},
   "outputs": [],
   "source": [
    "import numpy as np\n",
    "import torch\n",
    "from matplotlib.font_manager import FontProperties\n",
    "from sklearn.preprocessing import MinMaxScaler\n",
    "from torch import nn\n",
    "from torch.autograd import Variable\n",
    "import matplotlib.pyplot as plt\n",
    "from sklearn.model_selection import train_test_split"
   ]
  },
  {
   "cell_type": "code",
   "execution_count": 2,
   "id": "669decaa",
   "metadata": {},
   "outputs": [],
   "source": [
    "n_dots = 500\n",
    "x1 = torch.linspace(-2, 2, n_dots).view(-1, 1)\n",
    "x2 = torch.linspace(-2, 2, n_dots).view(-1, 1)\n",
    "y_data = (1 + torch.sin(2* x1 + 3 * x2))/(3.5 + torch.sin(x1 -x2)) + 0.1 * torch.randn(x1.size())\n",
    "x_data = torch.cat((x1, x2), -1)\n",
    "\n",
    "train_set_input, test_set_input, train_set_output, test_set_output = train_test_split(x_data, y_data, test_size=0.2,shuffle=True)\n",
    "# train_set_input, val_set_input, train_set_output, val_set_output = train_test_split(train_set_input, train_set_output, test_size=2./6,shuffle=True)"
   ]
  },
  {
   "cell_type": "code",
   "execution_count": 3,
   "id": "aab3f302",
   "metadata": {},
   "outputs": [],
   "source": [
    "# 构建网络1\n",
    "neure = 5\n",
    "net = nn.Sequential(\n",
    "    nn.Linear(2, neure),\n",
    "    nn.ReLU(),\n",
    "    nn.Linear(neure, 1),\n",
    "    nn.Sigmoid(),\n",
    ")\n",
    "\n",
    "# 3 定义优化器和损失函数\n",
    "loss = nn.MSELoss()\n",
    "optimizer = torch.optim.SGD(net.parameters(), lr=0.5) \n",
    "\n",
    "# 4 训练网络\n",
    "max_epoch = 500\n",
    "mse_loss = []\n",
    "for i in range(max_epoch):\n",
    "    predict = net(torch.FloatTensor(train_set_input))\n",
    "    l = loss(torch.FloatTensor(train_set_output), predict)\n",
    "    optimizer.zero_grad()    \n",
    "    l.backward()\n",
    "    optimizer.step()\n",
    "    mse_loss.append(l.item())"
   ]
  },
  {
   "cell_type": "code",
   "execution_count": 4,
   "id": "ef6e25ee",
   "metadata": {},
   "outputs": [],
   "source": [
    "# 构建网络2\n",
    "neure = 5\n",
    "net = nn.Sequential(\n",
    "    nn.Linear(2, neure),\n",
    "    nn.ReLU(),\n",
    "    nn.Linear(neure, 1),\n",
    "    nn.Sigmoid(),\n",
    ")\n",
    "\n",
    "# 3 定义优化器和损失函数\n",
    "loss = nn.L1Loss()\n",
    "optimizer = torch.optim.SGD(net.parameters(), lr=0.5) \n",
    "\n",
    "# 4 训练网络\n",
    "max_epoch = 500\n",
    "L1_loss = []\n",
    "for i in range(max_epoch):\n",
    "    predict = net(torch.FloatTensor(train_set_input))\n",
    "    l = loss(torch.FloatTensor(train_set_output), predict)\n",
    "    optimizer.zero_grad()    \n",
    "    l.backward()\n",
    "    optimizer.step()\n",
    "    L1_loss.append(l.item())"
   ]
  },
  {
   "cell_type": "code",
   "execution_count": 5,
   "id": "37f8d889",
   "metadata": {},
   "outputs": [],
   "source": [
    "# 构建网络3\n",
    "neure = 5\n",
    "net = nn.Sequential(\n",
    "    nn.Linear(2, neure),\n",
    "    nn.ReLU(),\n",
    "    nn.Linear(neure, 1),\n",
    "    nn.Sigmoid(),\n",
    ")\n",
    "\n",
    "# 3 定义优化器和损失函数\n",
    "loss = nn.SmoothL1Loss()\n",
    "optimizer = torch.optim.SGD(net.parameters(), lr=0.5) \n",
    "\n",
    "# 4 训练网络\n",
    "max_epoch = 500\n",
    "smooth_loss = []\n",
    "for i in range(max_epoch):\n",
    "    predict = net(torch.FloatTensor(train_set_input))\n",
    "    l = loss(torch.FloatTensor(train_set_output), predict)\n",
    "    optimizer.zero_grad()    \n",
    "    l.backward()\n",
    "    optimizer.step()\n",
    "    smooth_loss.append(l.item())"
   ]
  },
  {
   "cell_type": "code",
   "execution_count": 6,
   "id": "bda325ba",
   "metadata": {},
   "outputs": [
    {
     "data": {
      "image/png": "[encoded data removed]",
      "text/plain": [
       "<Figure size 432x288 with 1 Axes>"
      ]
     },
     "metadata": {
      "needs_background": "light"
     },
     "output_type": "display_data"
    }
   ],
   "source": [
    "x = np.arange(max_epoch)\n",
    "y1 = np.array(mse_loss)\n",
    "y2 = np.array(L1_loss)\n",
    "y3 = np.array(smooth_loss)\n",
    "\n",
    "myfont = FontProperties(fname='C:/Windows/Fonts/simhei.ttf')\n",
    "plt.plot(x, y1, label='MSELoss')\n",
    "plt.plot(x, y2, label='L1Loss')\n",
    "plt.plot(x, y3, label='SmoothL1Loss')\n",
    "plt.legend()\n",
    "\n",
    "plt.xlabel('迭代次数', fontproperties=myfont)\n",
    "plt.ylabel('每次迭代损失函数平均值', fontproperties=myfont)\n",
    "plt.savefig('../../期末作业/figures/损失函数随迭代次数变化图像.png', dpi=900)\n",
    "plt.show()"
   ]
  },
  {
   "cell_type": "code",
   "execution_count": null,
   "id": "be50770a",
   "metadata": {},
   "outputs": [],
   "source": []
  }
 ],
 "metadata": {
  "kernelspec": {
   "display_name": "Python 3 (ipykernel)",
   "language": "python",
   "name": "python3"
  },
  "language_info": {
   "codemirror_mode": {
    "name": "ipython",
    "version": 3
   },
   "file_extension": ".py",
   "mimetype": "text/x-python",
   "name": "python",
   "nbconvert_exporter": "python",
   "pygments_lexer": "ipython3",
   "version": "3.9.7"
  }
 },
 "nbformat": 4,
 "nbformat_minor": 5
}
