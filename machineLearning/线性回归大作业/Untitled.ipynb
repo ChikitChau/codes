{
 "cells": [
  {
   "cell_type": "code",
   "execution_count": 1,
   "id": "8943af73",
   "metadata": {},
   "outputs": [],
   "source": [
    "import numpy as np\n",
    "import torch\n",
    "from matplotlib.font_manager import FontProperties\n",
    "from sklearn.linear_model import LinearRegression\n",
    "import matplotlib.pyplot as plt\n",
    "from sklearn.model_selection import train_test_split"
   ]
  },
  {
   "cell_type": "code",
   "execution_count": 4,
   "id": "c6163b47",
   "metadata": {},
   "outputs": [],
   "source": [
    "n_dots = 200\n",
    "x1 = np.linspace(-2, 2, n_dots)\n",
    "x2 = np.linspace(-2, 2, n_dots)\n",
    "y = (1 + np.sin(2* x1 + 3 * x2))/(3.5 + np.sin(x1 -x2)) + 0.1 * np.random.randn()"
   ]
  },
  {
   "cell_type": "code",
   "execution_count": null,
   "id": "459e7937",
   "metadata": {},
   "outputs": [],
   "source": [
    "y"
   ]
  }
 ],
 "metadata": {
  "kernelspec": {
   "display_name": "Python 3 (ipykernel)",
   "language": "python",
   "name": "python3"
  },
  "language_info": {
   "codemirror_mode": {
    "name": "ipython",
    "version": 3
   },
   "file_extension": ".py",
   "mimetype": "text/x-python",
   "name": "python",
   "nbconvert_exporter": "python",
   "pygments_lexer": "ipython3",
   "version": "3.9.7"
  }
 },
 "nbformat": 4,
 "nbformat_minor": 5
}
