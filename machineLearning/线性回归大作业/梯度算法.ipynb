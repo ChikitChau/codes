{
 "cells": [
  {
   "cell_type": "code",
   "execution_count": 1,
   "id": "59cc4b2a",
   "metadata": {},
   "outputs": [],
   "source": [
    "import numpy as np\n",
    "import torch\n",
    "from matplotlib.font_manager import FontProperties\n",
    "from sklearn.preprocessing import MinMaxScaler\n",
    "from torch import nn\n",
    "from torch.autograd import Variable\n",
    "import matplotlib.pyplot as plt\n",
    "from sklearn.model_selection import train_test_split"
   ]
  },
  {
   "cell_type": "code",
   "execution_count": 2,
   "id": "7374aa2f",
   "metadata": {},
   "outputs": [],
   "source": [
    "n_dots = 500\n",
    "x1 = torch.linspace(-2, 2, n_dots).view(-1, 1)\n",
    "x2 = torch.linspace(-2, 2, n_dots).view(-1, 1)\n",
    "y_data = (1 + torch.sin(2* x1 + 3 * x2))/(3.5 + torch.sin(x1 -x2)) + 0.1 * torch.randn(x1.size())\n",
    "x_data = torch.cat((x1, x2), -1)\n",
    "\n",
    "train_set_input, test_set_input, train_set_output, test_set_output = train_test_split(x_data, y_data, test_size=0.2,shuffle=True)\n",
    "# train_set_input, val_set_input, train_set_output, val_set_output = train_test_split(train_set_input, train_set_output, test_size=2./6,shuffle=True)"
   ]
  },
  {
   "cell_type": "code",
   "execution_count": 3,
   "id": "cf30e5ce",
   "metadata": {},
   "outputs": [
    {
     "name": "stdout",
     "output_type": "stream",
     "text": [
      "train_loss:0.099586 , test_loss:0.091441\n"
     ]
    }
   ],
   "source": [
    "# 2 构建网络\n",
    "neure = 5\n",
    "net = nn.Sequential(\n",
    "    nn.Linear(2, neure),\n",
    "    nn.ReLU(),\n",
    "    nn.Linear(neure, 1),\n",
    "    nn.Sigmoid(),\n",
    ")\n",
    "\n",
    "# 3 定义优化器和损失函数\n",
    "loss = nn.MSELoss()\n",
    "optimizer = torch.optim.RMSprop(net.parameters(), lr=0.3) \n",
    "\n",
    "# 4 训练网络\n",
    "max_epoch = 500\n",
    "l_arr = []\n",
    "for i in range(max_epoch):\n",
    "    predict = net(torch.FloatTensor(train_set_input))\n",
    "    l = loss(torch.FloatTensor(train_set_output), predict)\n",
    "    optimizer.zero_grad()    \n",
    "    l.backward()\n",
    "    optimizer.step()\n",
    "    l_arr.append(l.item())\n",
    "\n",
    "predict = net(torch.FloatTensor(test_set_input))\n",
    "test_loss = loss(torch.FloatTensor(test_set_output), predict)\n",
    "print('train_loss:%.6f , test_loss:%.6f' % (torch.FloatTensor(l_arr).mean(), test_loss))"
   ]
  },
  {
   "cell_type": "code",
   "execution_count": 4,
   "id": "3ca62d2f",
   "metadata": {},
   "outputs": [
    {
     "data": {
      "image/png": "[encoded data removed]",
      "text/plain": [
       "<Figure size 432x288 with 1 Axes>"
      ]
     },
     "metadata": {
      "needs_background": "light"
     },
     "output_type": "display_data"
    }
   ],
   "source": [
    "x = np.arange(max_epoch)\n",
    "y = np.array(l_arr)\n",
    "myfont = FontProperties(fname='C:/Windows/Fonts/simhei.ttf')\n",
    "plt.plot(x, y)\n",
    "# plt.title('损失函数随迭代次数变化图像', fontproperties=myfont)\n",
    "plt.xlabel('迭代次数', fontproperties=myfont)\n",
    "plt.ylabel('每次迭代损失函数平均值', fontproperties=myfont)\n",
    "plt.savefig('../../期末作业/figures/RMSprop.png', dpi=900)\n",
    "plt.show()"
   ]
  },
  {
   "cell_type": "code",
   "execution_count": null,
   "id": "fc799747",
   "metadata": {},
   "outputs": [],
   "source": []
  }
 ],
 "metadata": {
  "kernelspec": {
   "display_name": "Python 3 (ipykernel)",
   "language": "python",
   "name": "python3"
  },
  "language_info": {
   "codemirror_mode": {
    "name": "ipython",
    "version": 3
   },
   "file_extension": ".py",
   "mimetype": "text/x-python",
   "name": "python",
   "nbconvert_exporter": "python",
   "pygments_lexer": "ipython3",
   "version": "3.9.7"
  }
 },
 "nbformat": 4,
 "nbformat_minor": 5
}
