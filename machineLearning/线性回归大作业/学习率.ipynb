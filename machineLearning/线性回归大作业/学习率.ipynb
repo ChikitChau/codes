{
 "cells": [
  {
   "cell_type": "code",
   "execution_count": 1,
   "id": "d1df51f8",
   "metadata": {},
   "outputs": [],
   "source": [
    "import numpy as np\n",
    "import torch\n",
    "from matplotlib.font_manager import FontProperties\n",
    "from sklearn.preprocessing import MinMaxScaler\n",
    "from torch import nn\n",
    "from torch.autograd import Variable\n",
    "import matplotlib.pyplot as plt\n",
    "from sklearn.model_selection import train_test_split"
   ]
  },
  {
   "cell_type": "code",
   "execution_count": 2,
   "id": "4137d49a",
   "metadata": {},
   "outputs": [],
   "source": [
    "n_dots = 500\n",
    "x1 = torch.linspace(-2, 2, n_dots).view(-1, 1)\n",
    "x2 = torch.linspace(-2, 2, n_dots).view(-1, 1)\n",
    "y_data = (1 + torch.sin(2* x1 + 3 * x2))/(3.5 + torch.sin(x1 -x2)) + 0.1 * torch.randn(x1.size())\n",
    "x_data = torch.cat((x1, x2), -1)\n",
    "\n",
    "train_set_input, test_set_input, train_set_output, test_set_output = train_test_split(x_data, y_data, test_size=0.2,shuffle=True)"
   ]
  },
  {
   "cell_type": "code",
   "execution_count": 3,
   "id": "d10a7790",
   "metadata": {},
   "outputs": [],
   "source": [
    "# 超参数\n",
    "learning_rate = [0.0003, 0.003, 0.03, 0.3]\n",
    "neure = 5"
   ]
  },
  {
   "cell_type": "code",
   "execution_count": 4,
   "id": "0fb1430d",
   "metadata": {},
   "outputs": [],
   "source": [
    "loss_list = []\n",
    "for lr in learning_rate:\n",
    "    net = nn.Sequential(\n",
    "        nn.Linear(2, neure),\n",
    "        nn.ReLU(),\n",
    "        nn.Linear(neure, 1),\n",
    "        nn.Sigmoid(),\n",
    "    )\n",
    "\n",
    "    # 3 定义优化器和损失函数\n",
    "    loss = nn.MSELoss()\n",
    "    optimizer = torch.optim.SGD(net.parameters(), lr=lr) \n",
    "\n",
    "    # 4 训练网络\n",
    "    max_epoch = 500\n",
    "    mse_loss = []\n",
    "    for i in range(max_epoch):\n",
    "        predict = net(torch.FloatTensor(train_set_input))\n",
    "        l = loss(torch.FloatTensor(train_set_output), predict)\n",
    "        optimizer.zero_grad()    \n",
    "        l.backward()\n",
    "        optimizer.step()\n",
    "        mse_loss.append(l.item())\n",
    "    loss_list.append(l.item())"
   ]
  },
  {
   "cell_type": "code",
   "execution_count": 5,
   "id": "1be441da",
   "metadata": {},
   "outputs": [
    {
     "data": {
      "text/plain": [
       "[0.10710915923118591,\n",
       " 0.051809415221214294,\n",
       " 0.047570157796144485,\n",
       " 0.04602468013763428]"
      ]
     },
     "execution_count": 5,
     "metadata": {},
     "output_type": "execute_result"
    }
   ],
   "source": [
    "loss_list"
   ]
  },
  {
   "cell_type": "code",
   "execution_count": 7,
   "id": "146d800b",
   "metadata": {},
   "outputs": [
    {
     "data": {
      "image/png": "[encoded data removed]",
      "text/plain": [
       "<Figure size 432x288 with 1 Axes>"
      ]
     },
     "metadata": {
      "needs_background": "light"
     },
     "output_type": "display_data"
    }
   ],
   "source": [
    "plt.plot(learning_rate, loss_list, 'b^', learning_rate, loss_list, 'b')\n",
    "plt.ylabel('Loss')\n",
    "plt.xlabel('learning rate')\n",
    "plt.savefig('../../期末作业/figures/学习率.png', dpi=900)"
   ]
  },
  {
   "cell_type": "code",
   "execution_count": null,
   "id": "2ad7a078",
   "metadata": {},
   "outputs": [],
   "source": []
  }
 ],
 "metadata": {
  "kernelspec": {
   "display_name": "Python 3 (ipykernel)",
   "language": "python",
   "name": "python3"
  },
  "language_info": {
   "codemirror_mode": {
    "name": "ipython",
    "version": 3
   },
   "file_extension": ".py",
   "mimetype": "text/x-python",
   "name": "python",
   "nbconvert_exporter": "python",
   "pygments_lexer": "ipython3",
   "version": "3.9.7"
  }
 },
 "nbformat": 4,
 "nbformat_minor": 5
}
