{
 "cells": [
  {
   "cell_type": "markdown",
   "id": "2311439c",
   "metadata": {},
   "source": [
    "最速下降法的步骤：  \n",
    "Step 1：选取初始点$x_0$，给定终止误差$\\epsilon>0$，令$k:=0$；  \n",
    "Step 2：计算$\\triangledown f(x_k)$，若$\\parallel\\triangledown f(x_k)\\parallel\\leq\\epsilon$，停止迭代，输出$x_k$.否则进行Step 3;   \n",
    "Step 3：取$p_k=-\\triangledown f(x_k)$;   \n",
    "Step 4：进行一维搜索，求$t_k$，使得$$f(x_k+t_kp_k)=\\mathop{min}f(x_k+tp_k)$$\n",
    "令$x_{k+1}=x_k+t_kp_k$，$k:=k+1$，转到Step 2."
   ]
  },
  {
   "cell_type": "markdown",
   "id": "291d7ff3",
   "metadata": {},
   "source": [
    "### 题目\n",
    "$minf(x,y)=200x^2+y^2$   \n",
    "$(x_0,y_0)=(100,1)$   \n",
    "$\\epsilon=10^{-5}$   "
   ]
  },
  {
   "cell_type": "code",
   "execution_count": 1,
   "id": "0bd4ab64",
   "metadata": {},
   "outputs": [],
   "source": [
    "import numpy as np\n",
    "from sympy import *\n",
    "import math\n",
    "import matplotlib.pyplot as plt\n",
    "import mpl_toolkits.axisartist as axisartist"
   ]
  },
  {
   "cell_type": "code",
   "execution_count": 2,
   "id": "ea0339a1",
   "metadata": {},
   "outputs": [],
   "source": [
    "# 定义符号\n",
    "x, y, t = symbols('x, y, t')"
   ]
  },
  {
   "cell_type": "code",
   "execution_count": 3,
   "id": "2e71ca72",
   "metadata": {},
   "outputs": [],
   "source": [
    "def func():\n",
    "    # 自定义一个函数\n",
    "    return 200 * pow(x, 2) + pow(y, 2)\n",
    "\n",
    "\n",
    "def grad(data):\n",
    "    # 求梯度向量,data=[data1, data2]\n",
    "    f = func()\n",
    "    grad_vec = [diff(f, x), diff(f, y)]  # 求偏导数,梯度向量\n",
    "    grad = []\n",
    "    for item in grad_vec:\n",
    "        grad.append(item.subs(x, data[0]).subs(y, data[1]))\n",
    "    return grad\n",
    "\n",
    "\n",
    "def grad_len(grad):\n",
    "    # 梯度向量的模长\n",
    "    vec_len = math.sqrt(pow(grad[0], 2) + pow(grad[1], 2))\n",
    "    return vec_len\n",
    "\n",
    "\n",
    "def zhudian(f):\n",
    "    # 求得min(t)的驻点\n",
    "    t_diff = diff(f)\n",
    "    t_min = solve(t_diff)\n",
    "    return t_min"
   ]
  },
  {
   "cell_type": "code",
   "execution_count": 4,
   "id": "da262026",
   "metadata": {},
   "outputs": [],
   "source": [
    "def main(X0, theta):\n",
    "    f = func()\n",
    "    grad_vec = grad(X0)\n",
    "    grad_length = grad_len(grad_vec)  # 梯度向量的模长\n",
    "    k = 0\n",
    "    data_x = [0]\n",
    "    data_y = [0]\n",
    "    while grad_length > theta:  # 迭代的终止条件\n",
    "        k += 1\n",
    "        p = -np.array(grad_vec)\n",
    "        # 迭代\n",
    "        X = np.array(X0) + t * p\n",
    "        t_func = f.subs(x, X[0]).subs(y, X[1])\n",
    "        t_min = zhudian(t_func)\n",
    "        X0 = np.array(X0) + t_min * p\n",
    "        grad_vec = grad(X0)\n",
    "        grad_length = grad_len(grad_vec)\n",
    "        print('grad_length', grad_length)\n",
    "        print('坐标', X0[0], X0[1])\n",
    "        data_x.append(X0[0])\n",
    "        data_y.append(X0[1])\n",
    "\n",
    "    print(k)\n",
    "\n",
    "    # 绘图\n",
    "    fig = plt.figure()\n",
    "    ax = axisartist.Subplot(fig, 111)\n",
    "    fig.add_axes(ax)\n",
    "    ax.axis[\"bottom\"].set_axisline_style(\"-|>\", size=1.5)\n",
    "    ax.axis[\"left\"].set_axisline_style(\"->\", size=1.5)\n",
    "    ax.axis[\"top\"].set_visible(False)\n",
    "    ax.axis[\"right\"].set_visible(False)\n",
    "    plt.title(r'$Gradient \\ method - steepest \\ descent \\ method$')\n",
    "    plt.plot(data_x, data_y,\n",
    "             label=r'$f(x,y)=200x^2+y^2$')\n",
    "    plt.legend()\n",
    "    plt.scatter(1, 1, marker=(5, 1), c=5, s=1000)\n",
    "    plt.grid()\n",
    "    plt.xlabel(r'$x$', fontsize=20)\n",
    "    plt.ylabel(r'$y$', fontsize=20)\n",
    "    plt.show()"
   ]
  },
  {
   "cell_type": "code",
   "execution_count": 5,
   "id": "a6022e9b",
   "metadata": {},
   "outputs": [
    {
     "name": "stdout",
     "output_type": "stream",
     "text": [
      "grad_length 1.990000002462625\n",
      "坐标 -19900/80000000001 79600000000/80000000001\n",
      "grad_length 0.019800490124258056\n",
      "坐标 7920200000000/160000080002000001 79202000000/160000080002000001\n",
      "grad_length 9.85074383669525e-07\n",
      "坐标 -1576119800000000/12800006400320000160002000001 6304479200000000000000/12800006400320000160002000001\n",
      "3\n"
     ]
    },
    {
     "data": {
      "image/png": "[encoded data removed]",
      "text/plain": [
       "<Figure size 432x288 with 1 Axes>"
      ]
     },
     "metadata": {
      "needs_background": "light"
     },
     "output_type": "display_data"
    }
   ],
   "source": [
    "if __name__ == '__main__':\n",
    "    # 给定初始迭代点和阈值\n",
    "    main([100, 1], 10e-5)"
   ]
  },
  {
   "cell_type": "code",
   "execution_count": null,
   "id": "6923df41",
   "metadata": {},
   "outputs": [],
   "source": []
  }
 ],
 "metadata": {
  "kernelspec": {
   "display_name": "Python 3 (ipykernel)",
   "language": "python",
   "name": "python3"
  },
  "language_info": {
   "codemirror_mode": {
    "name": "ipython",
    "version": 3
   },
   "file_extension": ".py",
   "mimetype": "text/x-python",
   "name": "python",
   "nbconvert_exporter": "python",
   "pygments_lexer": "ipython3",
   "version": "3.9.7"
  }
 },
 "nbformat": 4,
 "nbformat_minor": 5
}
