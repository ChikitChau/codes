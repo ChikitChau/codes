{
 "cells": [
  {
   "cell_type": "code",
   "execution_count": 1,
   "id": "14cc0e97",
   "metadata": {},
   "outputs": [],
   "source": [
    "from shapely.geometry import Polygon \n",
    "import numpy as np\n",
    "import copy\n",
    "import matplotlib.pyplot as plt\n",
    "import math"
   ]
  },
  {
   "cell_type": "code",
   "execution_count": 2,
   "id": "e076d31b",
   "metadata": {},
   "outputs": [
    {
     "name": "stdout",
     "output_type": "stream",
     "text": [
      "4\n",
      "POLYGON ((-1 -2, -1 2, 2 1, 2 -1, -1 -2))\n"
     ]
    },
    {
     "data": {
      "image/svg+xml": [
       "<svg xmlns=\"http://www.w3.org/2000/svg\" xmlns:xlink=\"http://www.w3.org/1999/xlink\" width=\"100.0\" height=\"100.0\" viewBox=\"-1.16 -2.16 3.3200000000000003 4.32\" preserveAspectRatio=\"xMinYMin meet\"><g transform=\"matrix(1,0,0,-1,0,0.0)\"><path fill-rule=\"evenodd\" fill=\"#66cc99\" stroke=\"#555555\" stroke-width=\"0.0864\" opacity=\"0.6\" d=\"M -1.0,-2.0 L -1.0,2.0 L 2.0,1.0 L 2.0,-1.0 L -1.0,-2.0 z\" /></g></svg>"
      ],
      "text/plain": [
       "<shapely.geometry.polygon.Polygon at 0x1eccceaf970>"
      ]
     },
     "execution_count": 2,
     "metadata": {},
     "output_type": "execute_result"
    }
   ],
   "source": [
    "np.random.seed(5)\n",
    "# 生成点集\n",
    "# 案例一\n",
    "# Z = np.random.randint(low=-10,high=11,size=(20,2))\n",
    "# 案例二\n",
    "Z = np.array([[2, 1], [2, -1], [-1, 2], [-1, -2]])\n",
    "Z = [tuple(i) for i in Z]\n",
    "k = set()\n",
    "for i in Z:\n",
    "    k.add(i)\n",
    "Z = list(k)\n",
    "print(len(Z))\n",
    "polygon = Polygon(Z) \n",
    "co_Z = polygon.convex_hull # 调用shapely库计算出凸包\n",
    "print(co_Z)\n",
    "c=list(co_Z.exterior.coords)\n",
    "co_Z"
   ]
  },
  {
   "cell_type": "code",
   "execution_count": 3,
   "id": "6383f7f7",
   "metadata": {},
   "outputs": [
    {
     "data": {
      "image/png": "[encoded data removed]",
      "text/plain": [
       "<Figure size 432x288 with 1 Axes>"
      ]
     },
     "metadata": {
      "needs_background": "light"
     },
     "output_type": "display_data"
    }
   ],
   "source": [
    "k = list(co_Z.exterior.coords)\n",
    "x = [i[0] for i in Z]\n",
    "y = [i[1] for i in Z]\n",
    "x1 = [i[0] for i in c]\n",
    "y1 = [i[1] for i in c]\n",
    "plt.scatter(x, y, c='b')\n",
    "plt.plot(x1, y1, c='r')\n",
    "plt.savefig('figures/集合1.png', dpi=900)"
   ]
  },
  {
   "cell_type": "code",
   "execution_count": 4,
   "id": "f95ee43b",
   "metadata": {},
   "outputs": [],
   "source": [
    "def distance(x:tuple,y:tuple)->float:\n",
    "    '''向量x,y之间的距离'''\n",
    "    if len(x) == len(y):\n",
    "        dist = 0\n",
    "        for i in range(len(x)):\n",
    "            dist+=(x[i] - y [i])**2\n",
    "        return dist**0.5\n",
    "    \n",
    "def d_max(x:tuple,Z:list)->float:\n",
    "    max = 0\n",
    "    for i in Z:\n",
    "        dist = distance(x,i)\n",
    "        if dist >= max:\n",
    "            max = dist\n",
    "    return max\n",
    "\n",
    "def f_E(x:tuple,Z:list,dmax:float)->list:\n",
    "    '''获取到集合Z中与x距离为dmax的点'''\n",
    "    Ex=[]\n",
    "    for i in Z:\n",
    "        if math.fabs(distance(x,i) - dmax) < 1e-3:\n",
    "            Ex.append(i)\n",
    "    return Ex\n",
    "\n",
    "def set_equal(x:list,y:list)->bool:\n",
    "    '''判断量点集是否相等'''\n",
    "    for i,j in zip(x,y):\n",
    "        if i!=j:\n",
    "            return False\n",
    "    else:\n",
    "        return True\n",
    "\n",
    "def get_convex_hull(x:list,paint = False)->list:\n",
    "    '''获得集合的凸包'''\n",
    "    if len(x) <= 2:\n",
    "        return x\n",
    "    polygon = Polygon(x) \n",
    "    co_Z = polygon.convex_hull # 调用shapely库计算出凸包\n",
    "    if str(type(co_Z)) == \"<class 'shapely.geometry.linestring.LineString'>\":    \n",
    "        return list(co_Z.coords)\n",
    "    else:\n",
    "        if paint:\n",
    "            return list(co_Z.exterior.coords)\n",
    "        else:\n",
    "            return  list(co_Z.exterior.coords)[:-1]\n",
    "\n",
    "def init_Z(key=3,level=10,vertical=5,num=900)->list:\n",
    "    '''初始化点集Z'''\n",
    "    seed = np.random.RandomState(key)\n",
    "    seed2 = np.random.RandomState(key+1)\n",
    "    Z1 = seed.rand(num,1)*level #生成点集\n",
    "    Z2 = seed2.rand(num,1)*vertical\n",
    "    Z = np.concatenate([Z1,Z2],axis = 1)\n",
    "    Z = [tuple(i) for i in Z]\n",
    "    k = set()\n",
    "    for i in Z:\n",
    "        k.add(i)\n",
    "    Z = list(k)\n",
    "    return Z\n",
    "\n",
    "def is_in_convex_hull(x:tuple,hull:list)->bool:\n",
    "    '''判断点是否在凸包内'''\n",
    "    #将点加入凸包集合，对新的集合生成凸包\n",
    "    #若新的凸包和原来的凸包相等，则点在凸包内，否则不在凸包内\n",
    "    if len(hull) == 1:\n",
    "        return x == hull[0]\n",
    "    else:\n",
    "        temp = copy.deepcopy(hull)\n",
    "        temp.append(x)\n",
    "        new_hull = get_convex_hull(temp)\n",
    "        if new_hull == hull:\n",
    "            return True\n",
    "        else:\n",
    "            return False\n",
    "def get_point_in_hull(Z:list,hull:list)->list:\n",
    "    '''获取点集Z中属于凸包hull的点'''\n",
    "    points=[]\n",
    "    for i in Z:\n",
    "        if is_in_convex_hull(i,hull):\n",
    "            points.append(i)\n",
    "    return points\n",
    "def get_nearest_point(set:list,x:tuple)->tuple:\n",
    "    '''获取E(x)中与x距离最近的点y'''\n",
    "    min = distance(x,set[0])\n",
    "    nearest_point = set[0]\n",
    "    for i in set:\n",
    "        if distance(x,i) <= min:\n",
    "            min = distance(x,i)\n",
    "            nearest_point = i\n",
    "    return nearest_point\n",
    "\n",
    "def get_zi(Z:list,Ex:list)->list:\n",
    "    temp = copy.deepcopy(Z)\n",
    "    for i in Z:\n",
    "        for j in Ex:\n",
    "            if i == j:\n",
    "                temp.remove(i)\n",
    "                break\n",
    "    return temp\n",
    "\n",
    "def dot(x:tuple,y:tuple)->float:\n",
    "    '''向量点积'''\n",
    "    return x[0]*y[0] + x[1]*y[1]\n",
    "\n",
    "def sub(x:tuple,y:tuple)->tuple:\n",
    "    '''向量相减'''\n",
    "    return (x[0]-y[0],x[1]-y[1])\n",
    "\n",
    "def add(x:tuple,y:tuple)->tuple:\n",
    "    return (x[0]+y[0],x[1]+y[1])\n",
    "\n",
    "def point_dot(x:float,y:tuple)->tuple:\n",
    "    return (x*y[0],x*y[1])\n",
    "\n",
    "def get_alpha(zi:list,x:tuple,y:tuple,dmax:float):\n",
    "    min = 999\n",
    "    for i in zi:\n",
    "        numerator = distance(i,x)**2 - dmax**2\n",
    "        denominator = 2*(dot(sub(y,x),sub(i,y)))\n",
    "        if denominator>= 0 or math.fabs(denominator - 0) < 1e-4:\n",
    "            continue\n",
    "        alpha = numerator/denominator\n",
    "        if alpha < min :\n",
    "            min = alpha\n",
    "    return min"
   ]
  },
  {
   "cell_type": "code",
   "execution_count": 5,
   "id": "bd44485f",
   "metadata": {
    "scrolled": true
   },
   "outputs": [
    {
     "name": "stdout",
     "output_type": "stream",
     "text": [
      "[(2, 1)]\n",
      "[(-1, 2), (2, 1)]\n",
      "[(2, 1)]\n",
      "[(-1, 2), (2, 1)]\n",
      "[(-1, 2)]\n",
      "[(-1, -2), (-1, 2), (-1, -2)]\n",
      "[(-1, 2)]\n",
      "[(-1, -2), (-1, 2), (-1, -2)]\n",
      "[(-1, 2)]\n",
      "4\n"
     ]
    }
   ],
   "source": [
    "step=0\n",
    "xcpth=[]\n",
    "#step0\n",
    "# Z = init_Z(3,num=10,level=10,vertical=8)\n",
    "Z_hull = get_convex_hull(Z)\n",
    "x = Z[1]\n",
    "xcpth.append(x)\n",
    "while(True):\n",
    "    #step1\n",
    "    dmax = d_max(x,Z)\n",
    "    Ex = f_E(x,Z,dmax)\n",
    "    print(Ex)\n",
    "    for k in Ex:\n",
    "        xcpth.append(k)\n",
    "    if Ex == Z:\n",
    "        xc = x\n",
    "        print(1)\n",
    "        break\n",
    "    #step2\n",
    "    co_Ex = get_convex_hull(Ex)\n",
    "    co_Ex = get_point_in_hull(Z,co_Ex)\n",
    "    y = get_nearest_point(co_Ex,x)\n",
    "    if y == x:\n",
    "        xc = x\n",
    "        print(2)\n",
    "        break\n",
    "    #step3\n",
    "    zi = get_zi(Z,Ex)\n",
    "    alpha = get_alpha(zi,x,y,dmax)\n",
    "    xcpth.append(sub(y,x))\n",
    "    if alpha >= 1:\n",
    "        xc = y\n",
    "        print(3)\n",
    "        break\n",
    "    #step4\n",
    "    x_alpha = add(x,point_dot(alpha,sub(y,x)))\n",
    "    Z.append(x)\n",
    "    step+=1\n",
    "    flag = math.fabs(dot((1,1),sub(x_alpha,x)))\n",
    "    if flag < 1e-2:\n",
    "        xc = x_alpha\n",
    "        print(4)\n",
    "        break\n",
    "    x = x_alpha\n",
    "    xcpth.append(x)"
   ]
  },
  {
   "cell_type": "code",
   "execution_count": 6,
   "id": "e65af850",
   "metadata": {},
   "outputs": [
    {
     "name": "stdout",
     "output_type": "stream",
     "text": [
      "(0.00717360114777611, 3.660266534311063e-16)\n"
     ]
    },
    {
     "data": {
      "image/png": "[encoded data removed]",
      "text/plain": [
       "<Figure size 432x288 with 1 Axes>"
      ]
     },
     "metadata": {
      "needs_background": "light"
     },
     "output_type": "display_data"
    }
   ],
   "source": [
    "x = [i[0] for i in Z]\n",
    "y = [i[1] for i in Z]\n",
    "hull = get_convex_hull(Z,True)\n",
    "x1 = [i[0] for i in hull]\n",
    "y1 = [i[1] for i in hull]\n",
    "print(xc)\n",
    "plt.scatter(x, y, c='b')\n",
    "plt.plot(x1, y1, c='r')\n",
    "plt.scatter(xc[0],xc[1],c=\"r\")\n",
    "xcpth = np.array(xcpth)\n",
    "plt.scatter(xcpth[:,0],xcpth[:,1],c=\"g\")\n",
    "plt.scatter(xc[0],xc[1],c=\"r\")\n",
    "plt.savefig('figures/center_1.png', dpi=900)\n",
    "# plt.xlim(-2,10)\n",
    "# plt.ylim(-2,10)"
   ]
  },
  {
   "cell_type": "code",
   "execution_count": null,
   "id": "5e07e6b8",
   "metadata": {},
   "outputs": [],
   "source": []
  }
 ],
 "metadata": {
  "kernelspec": {
   "display_name": "Python 3 (ipykernel)",
   "language": "python",
   "name": "python3"
  },
  "language_info": {
   "codemirror_mode": {
    "name": "ipython",
    "version": 3
   },
   "file_extension": ".py",
   "mimetype": "text/x-python",
   "name": "python",
   "nbconvert_exporter": "python",
   "pygments_lexer": "ipython3",
   "version": "3.9.7"
  }
 },
 "nbformat": 4,
 "nbformat_minor": 5
}
