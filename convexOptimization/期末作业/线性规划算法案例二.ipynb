{
 "cells": [
  {
   "cell_type": "code",
   "execution_count": 1,
   "id": "0cad29ff",
   "metadata": {},
   "outputs": [],
   "source": [
    "# %matplotlib inline\n",
    "import pulp\n",
    "import numpy as np\n",
    "import matplotlib.pyplot as plt"
   ]
  },
  {
   "cell_type": "code",
   "execution_count": 2,
   "id": "9efe379c",
   "metadata": {},
   "outputs": [],
   "source": [
    "# Generate the input data\n",
    "a = np.array([[2, 1, -2], [2, -1, 0], [-1, 2, 1], \n",
    "              [-1, -2, -1], [1, 2, -1], [0, 1, 5]])\n",
    "b = np.ones((6, 1))"
   ]
  },
  {
   "cell_type": "code",
   "execution_count": 3,
   "id": "8347b877",
   "metadata": {},
   "outputs": [],
   "source": [
    "# solve model\n",
    "model = pulp.LpProblem('Chebyshev_center', pulp.LpMaximize)\n",
    "r = pulp.LpVariable('r', cat='Continuous')\n",
    "x_c = pulp.LpVariable.matrix('x_c', range(0,3) ,cat='Continuous')\n",
    "\n",
    "model += r\n",
    "\n",
    "for i in range(len(a)):\n",
    "    model += pulp.lpSum(a[i].T * x_c) + r * np.linalg.norm(a[i]) <= b[i]"
   ]
  },
  {
   "cell_type": "code",
   "execution_count": 4,
   "id": "02bb734a",
   "metadata": {},
   "outputs": [
    {
     "name": "stdout",
     "output_type": "stream",
     "text": [
      "Optimal\n",
      "0.33131125\n",
      "r = 0.33131125\n",
      "x_c_0 = -0.18845648\n",
      "x_c_1 = 0.076595839\n",
      "x_c_2 = -0.15319168\n"
     ]
    }
   ],
   "source": [
    "# Solve our problem\n",
    "model.solve()\n",
    "print(pulp.LpStatus[model.status])\n",
    "\n",
    "# Print our decision variable values\n",
    "for v in model.variables():\n",
    "    print(v.name, \"=\", v.varValue)"
   ]
  },
  {
   "cell_type": "code",
   "execution_count": null,
   "id": "33fd6e7e",
   "metadata": {},
   "outputs": [],
   "source": []
  }
 ],
 "metadata": {
  "kernelspec": {
   "display_name": "Python 3 (ipykernel)",
   "language": "python",
   "name": "python3"
  },
  "language_info": {
   "codemirror_mode": {
    "name": "ipython",
    "version": 3
   },
   "file_extension": ".py",
   "mimetype": "text/x-python",
   "name": "python",
   "nbconvert_exporter": "python",
   "pygments_lexer": "ipython3",
   "version": "3.9.7"
  }
 },
 "nbformat": 4,
 "nbformat_minor": 5
}
